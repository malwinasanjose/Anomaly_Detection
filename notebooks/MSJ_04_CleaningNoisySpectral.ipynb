{
 "cells": [
  {
   "cell_type": "markdown",
   "metadata": {},
   "source": [
    "# Getting rid of too noisy spectral data"
   ]
  },
  {
   "cell_type": "code",
   "execution_count": 1,
   "metadata": {},
   "outputs": [],
   "source": [
    "import numpy as np\n",
    "import pandas as pd\n"
   ]
  },
  {
   "cell_type": "markdown",
   "metadata": {},
   "source": [
    "Loading data (need to drop ID numbers from the columns)"
   ]
  },
  {
   "cell_type": "code",
   "execution_count": 2,
   "metadata": {},
   "outputs": [],
   "source": [
    "spectral_data =  [\n",
    "   'SPEK_L1',\n",
    "#     'SPEK_R1_1',\n",
    "#     'SPEK_R1_2',\n",
    "#     'SPEK_L2',\n",
    "#     'SPEK_R2_1',\n",
    "#     'SPEK_R2_2',\n",
    "    'SPEK_L3',\n",
    "#     'SPEK_R3_1',  # didnt load properly (memory pb)\n",
    "    'SPEK_R3_2',\n",
    "    'SPEK_LP', \n",
    "#     'SPEK_RP_1',\n",
    "   'SPEK_RP_2'\n",
    "]"
   ]
  },
  {
   "cell_type": "code",
   "execution_count": 3,
   "metadata": {},
   "outputs": [
    {
     "name": "stdout",
     "output_type": "stream",
     "text": [
      "SPEK_L1 - shape: (27206, 1230), NAs: Series([], dtype: int64)\n",
      "SPEK_L3 - shape: (27206, 1230), NAs: Series([], dtype: int64)\n",
      "SPEK_R3_2 - shape: (27206, 1230), NAs: Series([], dtype: int64)\n",
      "SPEK_LP - shape: (27206, 513), NAs: Series([], dtype: int64)\n",
      "SPEK_RP_2 - shape: (27206, 513), NAs: Series([], dtype: int64)\n"
     ]
    }
   ],
   "source": [
    "# import back the csv with spectral data\n",
    "# loads df spek_data[sensor]\n",
    "# dict key is sensor names \n",
    "\n",
    "spek_data = {}\n",
    "for sensor in spectral_data:\n",
    "    temp_df = pd.read_csv(f'D:/capstone/processed/MA_NR-78635_{sensor}.csv')\n",
    "#     temp_df = temp_df.set_index('PRIMARY')\n",
    "    temp_df = temp_df.drop(['MA_NR', 'WSG_ID', 'WZD_ID', 'ST_ID','AT_ID'], 1)\n",
    "    \n",
    "    print(f'{sensor} - shape: {temp_df.shape}, NAs: {temp_df.isna().sum().loc[temp_df.isna().sum()>0]}')\n",
    "    spek_data[sensor] = temp_df"
   ]
  },
  {
   "cell_type": "markdown",
   "metadata": {},
   "source": [
    "# checking for noise levels in spectral data"
   ]
  },
  {
   "cell_type": "markdown",
   "metadata": {},
   "source": [
    "Low amplitude cut-off at 0.09 (after talk with Christian)"
   ]
  },
  {
   "cell_type": "code",
   "execution_count": 4,
   "metadata": {},
   "outputs": [],
   "source": [
    "# returns True if all data is below a threshold\n",
    "def amp_cut_off(dataframe, amp_thresh = 0.09):\n",
    "    return np.where((np.abs(dataframe.values) < 0.09).all(), True, False)"
   ]
  },
  {
   "cell_type": "markdown",
   "metadata": {},
   "source": [
    "If the df has values over 0.09, check for signal-to-noise ratio"
   ]
  },
  {
   "cell_type": "code",
   "execution_count": 5,
   "metadata": {},
   "outputs": [],
   "source": [
    "def signaltonoise(a, axis=None, ddof=0):\n",
    "    \"\"\"\n",
    "    Returns the signal-to-noise ratio of input\n",
    "    a : array\n",
    "    axis : 0 (freq axis) 1 (gear axis) or None (whole dataframe)\n",
    "    ddof : Degrees of freedom \n",
    "    Returns the mean to standard deviation ratio(s) along axis\n",
    "    \"\"\"\n",
    "    a = np.asanyarray(a)\n",
    "    m = a.mean(axis)\n",
    "    sd = a.std(axis=axis, ddof=ddof)\n",
    "    return np.where(sd == 0, 0, m/sd)"
   ]
  },
  {
   "cell_type": "markdown",
   "metadata": {},
   "source": [
    "mute all frequencies with amplitudes below noise level to increase SNR"
   ]
  },
  {
   "cell_type": "code",
   "execution_count": 6,
   "metadata": {},
   "outputs": [],
   "source": [
    "# cutting off all amplitudes below 0.09\n",
    "def threshold(data, amp_thresh=0.09):\n",
    "    cutoff_data = data.apply(lambda x: np.where(x < amp_thresh, 0, x))\n",
    "    return cutoff_data"
   ]
  },
  {
   "cell_type": "markdown",
   "metadata": {},
   "source": [
    "Overall function to apply to all spectral sensors"
   ]
  },
  {
   "cell_type": "code",
   "execution_count": 9,
   "metadata": {},
   "outputs": [],
   "source": [
    "def clean_spectral(sensors, amp_thresh=0.09, axis=None, cutoff=False):\n",
    "    #sensors is a list of sensor names (str)\n",
    "    #cutoff true to put all amplitudes<threshols to 0 (False is more conservative)\n",
    "    # axis None computes SNR on entire dataframe\n",
    "    signal_sensors = []\n",
    "    \n",
    "    for sensor in sensors:\n",
    "\n",
    "        if cutoff==True:\n",
    "            spek_data[sensor] = threshold(spek_data[sensor], amp_thresh=0.09)\n",
    "\n",
    "        if amp_cut_off(spek_data[sensor], amp_thresh) == False: #the signal is not too low amplitude\n",
    "            if signaltonoise(spek_data[sensor], axis) > 0.2:\n",
    "                signal_sensors.append(sensor)\n",
    "    return sensors, signal_sensors\n",
    "            \n",
    "        "
   ]
  },
  {
   "cell_type": "code",
   "execution_count": 10,
   "metadata": {},
   "outputs": [
    {
     "data": {
      "text/plain": [
       "(['SPEK_L1', 'SPEK_L3', 'SPEK_R3_2', 'SPEK_LP', 'SPEK_RP_2'],\n",
       " ['SPEK_L3', 'SPEK_R3_2', 'SPEK_LP', 'SPEK_RP_2'])"
      ]
     },
     "execution_count": 10,
     "metadata": {},
     "output_type": "execute_result"
    }
   ],
   "source": [
    "clean_spectral(spectral_data, amp_thresh=0.09, axis=None, cutoff=False)"
   ]
  },
  {
   "cell_type": "code",
   "execution_count": 11,
   "metadata": {},
   "outputs": [
    {
     "data": {
      "text/plain": [
       "(['SPEK_L1', 'SPEK_L3', 'SPEK_R3_2', 'SPEK_LP', 'SPEK_RP_2'],\n",
       " ['SPEK_LP', 'SPEK_RP_2'])"
      ]
     },
     "execution_count": 11,
     "metadata": {},
     "output_type": "execute_result"
    }
   ],
   "source": [
    "clean_spectral(spectral_data, amp_thresh=0.09, axis=None, cutoff=True) # cutoff is too conservative"
   ]
  },
  {
   "cell_type": "code",
   "execution_count": null,
   "metadata": {},
   "outputs": [],
   "source": []
  }
 ],
 "metadata": {
  "kernelspec": {
   "display_name": "process-optimization",
   "language": "python",
   "name": "process-optimization"
  },
  "language_info": {
   "codemirror_mode": {
    "name": "ipython",
    "version": 3
   },
   "file_extension": ".py",
   "mimetype": "text/x-python",
   "name": "python",
   "nbconvert_exporter": "python",
   "pygments_lexer": "ipython3",
   "version": "3.8.5"
  }
 },
 "nbformat": 4,
 "nbformat_minor": 4
}
