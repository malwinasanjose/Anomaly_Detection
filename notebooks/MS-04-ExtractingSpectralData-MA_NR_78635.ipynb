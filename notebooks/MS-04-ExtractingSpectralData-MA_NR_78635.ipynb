{
 "cells": [
  {
   "cell_type": "code",
   "execution_count": 1,
   "metadata": {},
   "outputs": [
    {
     "name": "stderr",
     "output_type": "stream",
     "text": [
      "C:\\Users\\Marija\\anaconda3\\envs\\process-optimization\\lib\\site-packages\\umap\\__init__.py:9: UserWarning: Tensorflow not installed; ParametricUMAP will be unavailable\n",
      "  warn(\"Tensorflow not installed; ParametricUMAP will be unavailable\")\n"
     ]
    }
   ],
   "source": [
    "import sqlalchemy as db\n",
    "import numpy as np\n",
    "import pandas as pd\n",
    "import pyodbc\n",
    "import yaml\n",
    "import seaborn as sns\n",
    "from matplotlib import pyplot as plt\n",
    "\n",
    "from sklearn.ensemble import IsolationForest\n",
    "from sklearn.preprocessing import StandardScaler\n",
    "from sklearn.pipeline import Pipeline\n",
    "\n",
    "import umap\n",
    "import umap.plot\n",
    "\n",
    "# custom functions imports\n",
    "import MS_Functions as f\n",
    "import read_famos as dat"
   ]
  },
  {
   "cell_type": "code",
   "execution_count": 2,
   "metadata": {},
   "outputs": [],
   "source": [
    "db_config_file_path = '../db_config.yml'\n",
    "db_config = yaml.safe_load(open(db_config_file_path))"
   ]
  },
  {
   "cell_type": "code",
   "execution_count": 3,
   "metadata": {},
   "outputs": [],
   "source": [
    "engine = db.create_engine('{DB_DRIVER}://{DB_USERNAME}:{DB_PASSWORD}@{DB_HOST}:{DB_PORT}/{DB_NAME}?driver={DB_ODBC_DRIVER}'.format(**db_config))"
   ]
  },
  {
   "cell_type": "code",
   "execution_count": 4,
   "metadata": {},
   "outputs": [],
   "source": [
    "sql = \"\"\"\n",
    "SELECT \n",
    "*,\n",
    "CASE WHEN NIO=0 THEN 0 ELSE 1 END NIO_GROUP\n",
    "FROM dbo.prozessmessung_schleifen ps \n",
    "WHERE WARM = 0\n",
    "AND TEACH_ACTIVE = 0\n",
    "AND READY = 1\n",
    "AND MA_NR = 78635\n",
    "AND WSG_ID IN (14, 15)\n",
    "AND WZD_ID IN (10027, 22, 10026)\n",
    "AND ST_ID IN (20371, 20365, 20366)\n",
    "AND AT_ID IN (10082, 80);\n",
    "\"\"\""
   ]
  },
  {
   "cell_type": "code",
   "execution_count": 5,
   "metadata": {},
   "outputs": [],
   "source": [
    "with engine.connect() as conn:\n",
    "    df = pd.read_sql(sql=sql, con=conn)"
   ]
  },
  {
   "cell_type": "code",
   "execution_count": 7,
   "metadata": {},
   "outputs": [
    {
     "data": {
      "text/plain": [
       "(113035, 112)"
      ]
     },
     "execution_count": 7,
     "metadata": {},
     "output_type": "execute_result"
    }
   ],
   "source": [
    "df.shape"
   ]
  },
  {
   "cell_type": "code",
   "execution_count": 6,
   "metadata": {},
   "outputs": [],
   "source": [
    "spectral_data = [\n",
    "    'SPEK_L1',\n",
    "    'SPEK_L2',\n",
    "    'SPEK_L3',\n",
    "    'SPEK_LP',\n",
    "    'SPEK_R1_1',\n",
    "    'SPEK_R2_1',\n",
    "    'SPEK_R3_1',\n",
    "    'SPEK_RP_1',\n",
    "    'SPEK_R1_2',\n",
    "    'SPEK_R2_2',\n",
    "    'SPEK_R3_2',\n",
    "    'SPEK_RP_2',\n",
    "    'SPEK_R1_3',\n",
    "    'SPEK_R2_3',\n",
    "    'SPEK_R3_3',\n",
    "    'SPEK_RP_3',\n",
    "    'SPEK_R1_4',\n",
    "    'SPEK_R2_4',\n",
    "    'SPEK_R3_4',\n",
    "    'SPEK_RP_4',\n",
    "    'SPEK_R1_5',\n",
    "    'SPEK_R2_5',\n",
    "    'SPEK_R3_5',\n",
    "    'SPEK_RP_5',\n",
    "    'SPEK_R1_6',\n",
    "    'SPEK_R2_6',\n",
    "    'SPEK_R3_6',\n",
    "    'SPEK_RP_6',\n",
    "    'FFT_RED_SPEK_L1',\n",
    "    'FFT_RED_SPEK_L2',\n",
    "    'FFT_RED_SPEK_L3',\n",
    "    'FFT_RED_SPEK_LP',\n",
    "    'FFT_RED_SPEK_R1',\n",
    "    'FFT_RED_SPEK_R2',\n",
    "    'FFT_RED_SPEK_R3',\n",
    "    'FFT_RED_SPEK_RP',\n",
    "    'FFT_RED_FREQ_SPEK_RP',\n",
    "    'FFT_RED_FREQ_SPEK_R1',\n",
    "    'FFT_RED_FREQ_SPEK_R2',\n",
    "    'FFT_RED_FREQ_SPEK_R3',\n",
    "    'FFT_RED_FREQ_SPEK_L1',\n",
    "    'FFT_RED_FREQ_SPEK_L2',\n",
    "    'FFT_RED_FREQ_SPEK_L3',\n",
    "    'FFT_RED_FREQ_SPEK_LP'\n",
    "]"
   ]
  },
  {
   "cell_type": "code",
   "execution_count": 485,
   "metadata": {},
   "outputs": [],
   "source": [
    "a_dict = df['FFT_RED_SPEK_LP'].head().apply(lambda x: dat.load_channels(x) if x is not None else None)"
   ]
  },
  {
   "cell_type": "code",
   "execution_count": 486,
   "metadata": {},
   "outputs": [
    {
     "data": {
      "text/plain": [
       "0    {'FFT_RED_SPEK_LP': {'delta_x': 1.0, 'trigger_...\n",
       "1    {'FFT_RED_SPEK_LP': {'delta_x': 1.0, 'trigger_...\n",
       "2                                                 None\n",
       "3                                                 None\n",
       "4    {'FFT_RED_SPEK_LP': {'delta_x': 1.0, 'trigger_...\n",
       "Name: FFT_RED_SPEK_LP, dtype: object"
      ]
     },
     "execution_count": 486,
     "metadata": {},
     "output_type": "execute_result"
    }
   ],
   "source": [
    "a_dict"
   ]
  },
  {
   "cell_type": "code",
   "execution_count": 588,
   "metadata": {},
   "outputs": [
    {
     "data": {
      "text/plain": [
       "{'FFT_RED_SPEK_LP': {'delta_x': 1.0,\n",
       "  'trigger_time': '2020-12-01 22:34:12.6485',\n",
       "  'decode_value_y': '7',\n",
       "  'BytePerValue_value_y': '4',\n",
       "  'buffer_size_value_y': 24,\n",
       "  'buffer_start_value_y': 0,\n",
       "  'X0': 0.0,\n",
       "  'unit_y': '',\n",
       "  'unit_y_scale-factor': 0.0,\n",
       "  'unit_y_scale-factor_Offset': 0.0,\n",
       "  'name': 'FFT_RED_SPEK_LP',\n",
       "  'value_y': array([0.16316135, 0.19757606, 0.82893825, 0.27427515, 0.44376013,\n",
       "         0.32839555], dtype=float32)}}"
      ]
     },
     "execution_count": 588,
     "metadata": {},
     "output_type": "execute_result"
    }
   ],
   "source": [
    "a_dict[0]"
   ]
  },
  {
   "cell_type": "code",
   "execution_count": 591,
   "metadata": {},
   "outputs": [
    {
     "data": {
      "text/plain": [
       "{'FFT_RED_FREQ_SPEK_LP': {'delta_x': 1.0,\n",
       "  'trigger_time': '2020-12-01 22:34:12.6485',\n",
       "  'decode_value_y': '7',\n",
       "  'BytePerValue_value_y': '4',\n",
       "  'buffer_size_value_y': 24,\n",
       "  'buffer_start_value_y': 0,\n",
       "  'X0': 0.0,\n",
       "  'unit_y': 'Hz',\n",
       "  'unit_y_scale-factor': 0.0,\n",
       "  'unit_y_scale-factor_Offset': 0.0,\n",
       "  'name': 'FFT_RED_FREQ_SPEK_LP',\n",
       "  'value_y': array([ 10.7421875,  15.625    ,  82.03125  ,  88.86719  , 151.36719  ,\n",
       "         163.08594  ], dtype=float32)}}"
      ]
     },
     "execution_count": 591,
     "metadata": {},
     "output_type": "execute_result"
    }
   ],
   "source": [
    "dat.load_channels(df['FFT_RED_FREQ_SPEK_LP'][0])"
   ]
  },
  {
   "cell_type": "code",
   "execution_count": 590,
   "metadata": {},
   "outputs": [
    {
     "data": {
      "text/plain": [
       "{'SPEK_LP': {'delta_x': 0.9765625,\n",
       "  'trigger_time': '2020-12-01 22:34:12.6485',\n",
       "  'decode_value_y': '7',\n",
       "  'BytePerValue_value_y': '4',\n",
       "  'buffer_size_value_y': 1028,\n",
       "  'buffer_start_value_y': 0,\n",
       "  'X0': 0.0,\n",
       "  'unit_y': '',\n",
       "  'unit_y_scale-factor': 0.0,\n",
       "  'unit_y_scale-factor_Offset': 0.0,\n",
       "  'name': 'SPEK_LP',\n",
       "  'value_y': array([0.09783622, 0.09806737, 0.10761873, 0.07566519, 0.12391531,\n",
       "         0.10265113, 0.10821721, 0.08220096, 0.03982416, 0.09145315,\n",
       "         0.14399895, 0.16316135, 0.12157375, 0.1117004 , 0.04710423,\n",
       "         0.11742107, 0.19757606, 0.14971156, 0.13716087, 0.07618092,\n",
       "         0.07404216, 0.09946195, 0.11462945, 0.05766401, 0.10782851,\n",
       "         0.07489656, 0.07100871, 0.04889378, 0.0669381 , 0.07183283,\n",
       "         0.0559059 , 0.07542378, 0.06577635, 0.07976779, 0.09610599,\n",
       "         0.05318107, 0.08384429, 0.09103403, 0.08182946, 0.05410096,\n",
       "         0.04771456, 0.04677804, 0.03192598, 0.04743873, 0.06053591,\n",
       "         0.07235873, 0.04978172, 0.05575104, 0.0654378 , 0.06848601,\n",
       "         0.07688504, 0.06688794, 0.09234159, 0.0624686 , 0.05354964,\n",
       "         0.0828994 , 0.09822182, 0.08886162, 0.08230456, 0.05444435,\n",
       "         0.06519271, 0.07254964, 0.06197224, 0.06843614, 0.08125748,\n",
       "         0.08316047, 0.12846641, 0.13618906, 0.10659327, 0.09560504,\n",
       "         0.07369412, 0.03659134, 0.05612253, 0.08699499, 0.11829396,\n",
       "         0.09698603, 0.06258498, 0.05711761, 0.06567516, 0.07986877,\n",
       "         0.08229114, 0.10765113, 0.12900098, 0.7051697 , 0.82893825,\n",
       "         0.25503677, 0.05314654, 0.07045633, 0.08956223, 0.08226626,\n",
       "         0.23298916, 0.27427515, 0.15601745, 0.08487949, 0.09745193,\n",
       "         0.06570233, 0.06019105, 0.06238621, 0.09187852, 0.08022886,\n",
       "         0.08362973, 0.0745343 , 0.06395371, 0.07069539, 0.06511182,\n",
       "         0.07052075, 0.04767513, 0.04227081, 0.05314626, 0.07347904,\n",
       "         0.06496014, 0.04263131, 0.03878528, 0.05259291, 0.04024097,\n",
       "         0.04939649, 0.06284875, 0.05453293, 0.04093234, 0.03256658,\n",
       "         0.05645371, 0.08703124, 0.05815133, 0.04898819, 0.0670197 ,\n",
       "         0.04959856, 0.06547116, 0.07582728, 0.05158826, 0.03490007,\n",
       "         0.0642418 , 0.0569957 , 0.04722399, 0.06635157, 0.04233253,\n",
       "         0.03349838, 0.03486056, 0.05376356, 0.05813417, 0.05347124,\n",
       "         0.05484221, 0.030797  , 0.03218246, 0.04806197, 0.03292807,\n",
       "         0.02480217, 0.03968314, 0.07005773, 0.04537462, 0.03666534,\n",
       "         0.05909441, 0.14276658, 0.14909033, 0.12444942, 0.4070446 ,\n",
       "         0.44376013, 0.17401515, 0.04510575, 0.03479124, 0.02273542,\n",
       "         0.02260247, 0.02437713, 0.02863976, 0.04855715, 0.04013567,\n",
       "         0.03925126, 0.11854061, 0.32839555, 0.22441123, 0.04015098,\n",
       "         0.03844352, 0.03191284, 0.03664368, 0.06678233, 0.04385687,\n",
       "         0.02747466, 0.04533969, 0.07369984, 0.05976817, 0.05910069,\n",
       "         0.08768161, 0.10312066, 0.08243946, 0.04255291, 0.03132068,\n",
       "         0.01430015, 0.03683282, 0.05228907, 0.04032279, 0.02464145,\n",
       "         0.02109129, 0.03944096, 0.0283668 , 0.03770944, 0.02092195,\n",
       "         0.02169084, 0.02242274, 0.03240258, 0.03040058, 0.02794303,\n",
       "         0.04639227, 0.06077192, 0.07065036, 0.06683383, 0.03759716,\n",
       "         0.03337694, 0.03899597, 0.03869253, 0.04614474, 0.06980461,\n",
       "         0.05633684, 0.02414724, 0.01495877, 0.03182679, 0.02586008,\n",
       "         0.0149222 , 0.0183776 , 0.03234082, 0.01589585, 0.01453349,\n",
       "         0.01652319, 0.01818078, 0.01735285, 0.01352107, 0.01848934,\n",
       "         0.02738816, 0.03668869, 0.02311621, 0.01332957, 0.01944953,\n",
       "         0.02663735, 0.01815698, 0.01479586, 0.01556379, 0.0152857 ,\n",
       "         0.02552758, 0.01702223, 0.01659575, 0.01757693, 0.03064162,\n",
       "         0.04284629, 0.04020842, 0.01670825, 0.01072372, 0.01182162,\n",
       "         0.02578566, 0.02792118, 0.01144195, 0.01045606, 0.00740857,\n",
       "         0.05719844, 0.10212888, 0.04396951, 0.00973303, 0.01483949,\n",
       "         0.01426897, 0.00934149], dtype=float32)}}"
      ]
     },
     "execution_count": 590,
     "metadata": {},
     "output_type": "execute_result"
    }
   ],
   "source": [
    "dat.load_channels(df['SPEK_LP'][0])"
   ]
  },
  {
   "cell_type": "markdown",
   "metadata": {},
   "source": [
    "ERROR 'FFT_RED_(FREQ_)SPEK_R1, _R2, _L1, _L2 give errors, is this potentially missing data? "
   ]
  },
  {
   "cell_type": "code",
   "execution_count": 541,
   "metadata": {},
   "outputs": [
    {
     "data": {
      "text/plain": [
       "b'|CF,2,1,1;|CK,1,3,1,1;\\r\\n|Nv,1,13,7,4,11,64,1,0;\\r\\n|NO,1,7,1,0,,0,;\\r\\n|NL,1,10,1252,0x409;\\r\\n|CG,1,5,1,1,1;\\r\\n|CD,1,12,1,1,0,,0,0,0;\\r\\n|NT,1,24, 1,12,2020,22,34,12.6485;\\r\\n|CZ,1,20,8.192E-1,1,0,1,1,s,0;\\r\\n|CC,1,3,1,1;\\r\\n|CP,1,16,1,4,7,32,0,0,1,0;\\r\\n|Cb,1,24,1,0,1,1,0,20,0,20,1,0,0,;\\r\\n|CR,1,12,0,0,0,1,2,Hz;\\r\\n|CN,1,32,0,0,0,20,FFT_RED_FREQ_SPEK_L3,0,;\\r\\n|CS,1,22,1,\\x00\\x93\\xa3B\\x80\\xdb\\xcbC\\xa0)LD\\x00\\x9c`D\\xb0e\\x8aD;'"
      ]
     },
     "execution_count": 541,
     "metadata": {},
     "output_type": "execute_result"
    }
   ],
   "source": [
    "df.head()['FFT_RED_FREQ_SPEK_L3'][0]"
   ]
  },
  {
   "cell_type": "code",
   "execution_count": 539,
   "metadata": {},
   "outputs": [
    {
     "data": {
      "text/plain": [
       "b'|CF,2,1,1;|CK,1,3,1,1;\\r\\n|Nv,1,13,7,4,11,64,1,0;\\r\\n|NO,1,7,1,0,,0,;\\r\\n|NL,1,10,1252,0x409;\\r\\n|CI,1,47,0,7,20,FFT_RED_FREQ_SPEK_L1,\\x00\\x00\\x00\\x00,0,,0,,\\x00\\x00@\\xd1\\x07>\\xd3A;\\r\\n'"
      ]
     },
     "execution_count": 539,
     "metadata": {},
     "output_type": "execute_result"
    }
   ],
   "source": [
    "df.head()['FFT_RED_FREQ_SPEK_L1'][0]"
   ]
  },
  {
   "cell_type": "code",
   "execution_count": 540,
   "metadata": {},
   "outputs": [
    {
     "ename": "ValueError",
     "evalue": "Block expected, no famos format",
     "output_type": "error",
     "traceback": [
      "\u001b[1;31m---------------------------------------------------------------------------\u001b[0m",
      "\u001b[1;31mValueError\u001b[0m                                Traceback (most recent call last)",
      "\u001b[1;32m<ipython-input-540-afa0f18ae439>\u001b[0m in \u001b[0;36m<module>\u001b[1;34m\u001b[0m\n\u001b[1;32m----> 1\u001b[1;33m \u001b[0mdat\u001b[0m\u001b[1;33m.\u001b[0m\u001b[0mload_channels\u001b[0m\u001b[1;33m(\u001b[0m\u001b[0mdf\u001b[0m\u001b[1;33m.\u001b[0m\u001b[0mhead\u001b[0m\u001b[1;33m(\u001b[0m\u001b[1;33m)\u001b[0m\u001b[1;33m[\u001b[0m\u001b[1;34m'FFT_RED_FREQ_SPEK_L1'\u001b[0m\u001b[1;33m]\u001b[0m\u001b[1;33m[\u001b[0m\u001b[1;36m0\u001b[0m\u001b[1;33m]\u001b[0m\u001b[1;33m)\u001b[0m\u001b[1;33m\u001b[0m\u001b[1;33m\u001b[0m\u001b[0m\n\u001b[0m",
      "\u001b[1;32m~\\Documents\\Propulsion_Bootcamp\\process-optimization\\notebooks\\read_famos.py\u001b[0m in \u001b[0;36mload_channels\u001b[1;34m(file_or_data, filter, show_print)\u001b[0m\n\u001b[0;32m     90\u001b[0m     \u001b[0mchannel\u001b[0m \u001b[1;33m=\u001b[0m \u001b[1;32mNone\u001b[0m\u001b[1;33m\u001b[0m\u001b[1;33m\u001b[0m\u001b[0m\n\u001b[0;32m     91\u001b[0m     \u001b[0mcount\u001b[0m \u001b[1;33m=\u001b[0m \u001b[1;33m-\u001b[0m\u001b[1;36m1\u001b[0m\u001b[1;33m\u001b[0m\u001b[1;33m\u001b[0m\u001b[0m\n\u001b[1;32m---> 92\u001b[1;33m     \u001b[1;32mfor\u001b[0m \u001b[0mtyp\u001b[0m\u001b[1;33m,\u001b[0m \u001b[0mnum\u001b[0m\u001b[1;33m,\u001b[0m \u001b[0mblock\u001b[0m\u001b[1;33m,\u001b[0m \u001b[0mblockValue\u001b[0m \u001b[1;32min\u001b[0m \u001b[0m_iter_blocks\u001b[0m\u001b[1;33m(\u001b[0m\u001b[0mdata\u001b[0m\u001b[1;33m)\u001b[0m\u001b[1;33m:\u001b[0m\u001b[1;33m\u001b[0m\u001b[1;33m\u001b[0m\u001b[0m\n\u001b[0m\u001b[0;32m     93\u001b[0m         \u001b[1;31m# save information of channel which is for all the same (until******)\u001b[0m\u001b[1;33m\u001b[0m\u001b[1;33m\u001b[0m\u001b[1;33m\u001b[0m\u001b[0m\n\u001b[0;32m     94\u001b[0m         \u001b[1;32mif\u001b[0m \u001b[0mtyp\u001b[0m \u001b[1;33m==\u001b[0m \u001b[1;34mb\"CF\"\u001b[0m\u001b[1;33m:\u001b[0m\u001b[1;33m\u001b[0m\u001b[1;33m\u001b[0m\u001b[0m\n",
      "\u001b[1;32m~\\Documents\\Propulsion_Bootcamp\\process-optimization\\notebooks\\read_famos.py\u001b[0m in \u001b[0;36m_iter_blocks\u001b[1;34m(data)\u001b[0m\n\u001b[0;32m     60\u001b[0m             \u001b[0mentry\u001b[0m \u001b[1;33m=\u001b[0m \u001b[0mre_block\u001b[0m\u001b[1;33m.\u001b[0m\u001b[0mmatch\u001b[0m\u001b[1;33m(\u001b[0m\u001b[0mdata\u001b[0m\u001b[1;33m,\u001b[0m \u001b[0mstart\u001b[0m \u001b[1;33m+\u001b[0m \u001b[1;36m3\u001b[0m\u001b[1;33m)\u001b[0m\u001b[1;33m\u001b[0m\u001b[1;33m\u001b[0m\u001b[0m\n\u001b[0;32m     61\u001b[0m             \u001b[1;32mif\u001b[0m \u001b[0mentry\u001b[0m \u001b[1;32mis\u001b[0m \u001b[1;32mNone\u001b[0m\u001b[1;33m:\u001b[0m\u001b[1;33m\u001b[0m\u001b[1;33m\u001b[0m\u001b[0m\n\u001b[1;32m---> 62\u001b[1;33m                 \u001b[1;32mraise\u001b[0m \u001b[0mValueError\u001b[0m\u001b[1;33m(\u001b[0m\u001b[1;34m\"Block expected, no famos format\"\u001b[0m\u001b[1;33m)\u001b[0m\u001b[1;33m\u001b[0m\u001b[1;33m\u001b[0m\u001b[0m\n\u001b[0m\u001b[0;32m     63\u001b[0m             \u001b[1;32melse\u001b[0m\u001b[1;33m:\u001b[0m\u001b[1;33m\u001b[0m\u001b[1;33m\u001b[0m\u001b[0m\n\u001b[0;32m     64\u001b[0m                 \u001b[0mstart\u001b[0m \u001b[1;33m+=\u001b[0m \u001b[1;36m3\u001b[0m\u001b[1;33m\u001b[0m\u001b[1;33m\u001b[0m\u001b[0m\n",
      "\u001b[1;31mValueError\u001b[0m: Block expected, no famos format"
     ]
    }
   ],
   "source": [
    "dat.load_channels(df.head()['FFT_RED_FREQ_SPEK_L1'][0])"
   ]
  },
  {
   "cell_type": "markdown",
   "metadata": {},
   "source": [
    "# unpacking a whole column of data"
   ]
  },
  {
   "cell_type": "code",
   "execution_count": 374,
   "metadata": {},
   "outputs": [],
   "source": [
    "import time"
   ]
  },
  {
   "cell_type": "markdown",
   "metadata": {},
   "source": [
    "### method 1:"
   ]
  },
  {
   "cell_type": "code",
   "execution_count": 379,
   "metadata": {},
   "outputs": [
    {
     "name": "stdout",
     "output_type": "stream",
     "text": [
      "0.6153140068054199\n"
     ]
    }
   ],
   "source": [
    "toc=time.time()\n",
    "test_series = df.head(10000)['SPEK_L1'].apply(dat.load_channels)\n",
    "tic=time.time()\n",
    "print(tic-toc)"
   ]
  },
  {
   "cell_type": "code",
   "execution_count": 381,
   "metadata": {},
   "outputs": [
    {
     "name": "stdout",
     "output_type": "stream",
     "text": [
      "304.926646232605\n"
     ]
    }
   ],
   "source": [
    "toc=time.time()\n",
    "test_df = pd.DataFrame()\n",
    "for i, x in test_series.items():\n",
    "    if x:\n",
    "        c_df = dat.load_spectrum_df(x).set_index('frequency')\n",
    "        c_df.columns = pd.MultiIndex.from_product([c_df.columns, [i]])\n",
    "        test_df = pd.concat([test_df, c_df], axis=1)\n",
    "tic=time.time()\n",
    "print(tic-toc)"
   ]
  },
  {
   "cell_type": "code",
   "execution_count": 382,
   "metadata": {},
   "outputs": [
    {
     "data": {
      "text/html": [
       "<div>\n",
       "<style scoped>\n",
       "    .dataframe tbody tr th:only-of-type {\n",
       "        vertical-align: middle;\n",
       "    }\n",
       "\n",
       "    .dataframe tbody tr th {\n",
       "        vertical-align: top;\n",
       "    }\n",
       "\n",
       "    .dataframe thead tr th {\n",
       "        text-align: left;\n",
       "    }\n",
       "\n",
       "    .dataframe thead tr:last-of-type th {\n",
       "        text-align: right;\n",
       "    }\n",
       "</style>\n",
       "<table border=\"1\" class=\"dataframe\">\n",
       "  <thead>\n",
       "    <tr>\n",
       "      <th></th>\n",
       "      <th colspan=\"21\" halign=\"left\">SPEK_L1</th>\n",
       "    </tr>\n",
       "    <tr>\n",
       "      <th></th>\n",
       "      <th>0</th>\n",
       "      <th>1</th>\n",
       "      <th>2</th>\n",
       "      <th>3</th>\n",
       "      <th>4</th>\n",
       "      <th>5</th>\n",
       "      <th>6</th>\n",
       "      <th>7</th>\n",
       "      <th>8</th>\n",
       "      <th>9</th>\n",
       "      <th>...</th>\n",
       "      <th>9990</th>\n",
       "      <th>9991</th>\n",
       "      <th>9992</th>\n",
       "      <th>9993</th>\n",
       "      <th>9994</th>\n",
       "      <th>9995</th>\n",
       "      <th>9996</th>\n",
       "      <th>9997</th>\n",
       "      <th>9998</th>\n",
       "      <th>9999</th>\n",
       "    </tr>\n",
       "    <tr>\n",
       "      <th>frequency</th>\n",
       "      <th></th>\n",
       "      <th></th>\n",
       "      <th></th>\n",
       "      <th></th>\n",
       "      <th></th>\n",
       "      <th></th>\n",
       "      <th></th>\n",
       "      <th></th>\n",
       "      <th></th>\n",
       "      <th></th>\n",
       "      <th></th>\n",
       "      <th></th>\n",
       "      <th></th>\n",
       "      <th></th>\n",
       "      <th></th>\n",
       "      <th></th>\n",
       "      <th></th>\n",
       "      <th></th>\n",
       "      <th></th>\n",
       "      <th></th>\n",
       "      <th></th>\n",
       "    </tr>\n",
       "  </thead>\n",
       "  <tbody>\n",
       "    <tr>\n",
       "      <th>0.000000</th>\n",
       "      <td>0.004278</td>\n",
       "      <td>0.003139</td>\n",
       "      <td>0.011586</td>\n",
       "      <td>0.009273</td>\n",
       "      <td>0.003870</td>\n",
       "      <td>0.008485</td>\n",
       "      <td>0.006785</td>\n",
       "      <td>0.005389</td>\n",
       "      <td>0.004004</td>\n",
       "      <td>0.008123</td>\n",
       "      <td>...</td>\n",
       "      <td>0.006891</td>\n",
       "      <td>0.003909</td>\n",
       "      <td>0.007896</td>\n",
       "      <td>0.005628</td>\n",
       "      <td>0.004770</td>\n",
       "      <td>0.004412</td>\n",
       "      <td>0.005754</td>\n",
       "      <td>0.006849</td>\n",
       "      <td>0.008872</td>\n",
       "      <td>0.009382</td>\n",
       "    </tr>\n",
       "    <tr>\n",
       "      <th>1.220703</th>\n",
       "      <td>0.009542</td>\n",
       "      <td>0.010940</td>\n",
       "      <td>0.019136</td>\n",
       "      <td>0.017790</td>\n",
       "      <td>0.014050</td>\n",
       "      <td>0.016750</td>\n",
       "      <td>0.010004</td>\n",
       "      <td>0.009085</td>\n",
       "      <td>0.014253</td>\n",
       "      <td>0.013506</td>\n",
       "      <td>...</td>\n",
       "      <td>0.015827</td>\n",
       "      <td>0.008521</td>\n",
       "      <td>0.015043</td>\n",
       "      <td>0.010895</td>\n",
       "      <td>0.010846</td>\n",
       "      <td>0.008632</td>\n",
       "      <td>0.009629</td>\n",
       "      <td>0.010295</td>\n",
       "      <td>0.018086</td>\n",
       "      <td>0.013683</td>\n",
       "    </tr>\n",
       "    <tr>\n",
       "      <th>2.441406</th>\n",
       "      <td>0.008979</td>\n",
       "      <td>0.011171</td>\n",
       "      <td>0.014117</td>\n",
       "      <td>0.013132</td>\n",
       "      <td>0.013681</td>\n",
       "      <td>0.013346</td>\n",
       "      <td>0.013965</td>\n",
       "      <td>0.009922</td>\n",
       "      <td>0.014753</td>\n",
       "      <td>0.007627</td>\n",
       "      <td>...</td>\n",
       "      <td>0.012975</td>\n",
       "      <td>0.010304</td>\n",
       "      <td>0.010760</td>\n",
       "      <td>0.010412</td>\n",
       "      <td>0.016589</td>\n",
       "      <td>0.009531</td>\n",
       "      <td>0.010809</td>\n",
       "      <td>0.009548</td>\n",
       "      <td>0.013204</td>\n",
       "      <td>0.008135</td>\n",
       "    </tr>\n",
       "    <tr>\n",
       "      <th>3.662109</th>\n",
       "      <td>0.006578</td>\n",
       "      <td>0.010567</td>\n",
       "      <td>0.006791</td>\n",
       "      <td>0.007374</td>\n",
       "      <td>0.009128</td>\n",
       "      <td>0.014719</td>\n",
       "      <td>0.012733</td>\n",
       "      <td>0.009532</td>\n",
       "      <td>0.017310</td>\n",
       "      <td>0.009349</td>\n",
       "      <td>...</td>\n",
       "      <td>0.009150</td>\n",
       "      <td>0.009880</td>\n",
       "      <td>0.013986</td>\n",
       "      <td>0.013409</td>\n",
       "      <td>0.012390</td>\n",
       "      <td>0.011891</td>\n",
       "      <td>0.010665</td>\n",
       "      <td>0.008639</td>\n",
       "      <td>0.011323</td>\n",
       "      <td>0.010458</td>\n",
       "    </tr>\n",
       "    <tr>\n",
       "      <th>4.882812</th>\n",
       "      <td>0.007937</td>\n",
       "      <td>0.012714</td>\n",
       "      <td>0.008938</td>\n",
       "      <td>0.011082</td>\n",
       "      <td>0.007786</td>\n",
       "      <td>0.012809</td>\n",
       "      <td>0.009691</td>\n",
       "      <td>0.008374</td>\n",
       "      <td>0.014222</td>\n",
       "      <td>0.007496</td>\n",
       "      <td>...</td>\n",
       "      <td>0.008621</td>\n",
       "      <td>0.012281</td>\n",
       "      <td>0.011259</td>\n",
       "      <td>0.010230</td>\n",
       "      <td>0.011486</td>\n",
       "      <td>0.011872</td>\n",
       "      <td>0.011016</td>\n",
       "      <td>0.005757</td>\n",
       "      <td>0.008721</td>\n",
       "      <td>0.011187</td>\n",
       "    </tr>\n",
       "    <tr>\n",
       "      <th>...</th>\n",
       "      <td>...</td>\n",
       "      <td>...</td>\n",
       "      <td>...</td>\n",
       "      <td>...</td>\n",
       "      <td>...</td>\n",
       "      <td>...</td>\n",
       "      <td>...</td>\n",
       "      <td>...</td>\n",
       "      <td>...</td>\n",
       "      <td>...</td>\n",
       "      <td>...</td>\n",
       "      <td>...</td>\n",
       "      <td>...</td>\n",
       "      <td>...</td>\n",
       "      <td>...</td>\n",
       "      <td>...</td>\n",
       "      <td>...</td>\n",
       "      <td>...</td>\n",
       "      <td>...</td>\n",
       "      <td>...</td>\n",
       "      <td>...</td>\n",
       "    </tr>\n",
       "    <tr>\n",
       "      <th>1495.361328</th>\n",
       "      <td>0.000816</td>\n",
       "      <td>0.000972</td>\n",
       "      <td>0.001025</td>\n",
       "      <td>0.001010</td>\n",
       "      <td>0.000857</td>\n",
       "      <td>0.001090</td>\n",
       "      <td>0.000699</td>\n",
       "      <td>0.000845</td>\n",
       "      <td>0.000878</td>\n",
       "      <td>0.001368</td>\n",
       "      <td>...</td>\n",
       "      <td>0.000891</td>\n",
       "      <td>0.000753</td>\n",
       "      <td>0.000919</td>\n",
       "      <td>0.000894</td>\n",
       "      <td>0.001050</td>\n",
       "      <td>0.000825</td>\n",
       "      <td>0.001267</td>\n",
       "      <td>0.001091</td>\n",
       "      <td>0.001009</td>\n",
       "      <td>0.001190</td>\n",
       "    </tr>\n",
       "    <tr>\n",
       "      <th>1496.582031</th>\n",
       "      <td>0.000832</td>\n",
       "      <td>0.001042</td>\n",
       "      <td>0.000909</td>\n",
       "      <td>0.001561</td>\n",
       "      <td>0.000864</td>\n",
       "      <td>0.000863</td>\n",
       "      <td>0.000832</td>\n",
       "      <td>0.000934</td>\n",
       "      <td>0.000853</td>\n",
       "      <td>0.001275</td>\n",
       "      <td>...</td>\n",
       "      <td>0.001060</td>\n",
       "      <td>0.000809</td>\n",
       "      <td>0.000844</td>\n",
       "      <td>0.000915</td>\n",
       "      <td>0.001046</td>\n",
       "      <td>0.000702</td>\n",
       "      <td>0.000941</td>\n",
       "      <td>0.001120</td>\n",
       "      <td>0.001098</td>\n",
       "      <td>0.001260</td>\n",
       "    </tr>\n",
       "    <tr>\n",
       "      <th>1497.802734</th>\n",
       "      <td>0.000612</td>\n",
       "      <td>0.000604</td>\n",
       "      <td>0.000727</td>\n",
       "      <td>0.001007</td>\n",
       "      <td>0.000797</td>\n",
       "      <td>0.000956</td>\n",
       "      <td>0.001051</td>\n",
       "      <td>0.000845</td>\n",
       "      <td>0.000898</td>\n",
       "      <td>0.000949</td>\n",
       "      <td>...</td>\n",
       "      <td>0.000894</td>\n",
       "      <td>0.000903</td>\n",
       "      <td>0.000931</td>\n",
       "      <td>0.000905</td>\n",
       "      <td>0.000708</td>\n",
       "      <td>0.001033</td>\n",
       "      <td>0.001003</td>\n",
       "      <td>0.000799</td>\n",
       "      <td>0.000759</td>\n",
       "      <td>0.001156</td>\n",
       "    </tr>\n",
       "    <tr>\n",
       "      <th>1499.023438</th>\n",
       "      <td>0.001274</td>\n",
       "      <td>0.001215</td>\n",
       "      <td>0.001263</td>\n",
       "      <td>0.001087</td>\n",
       "      <td>0.001385</td>\n",
       "      <td>0.000910</td>\n",
       "      <td>0.001111</td>\n",
       "      <td>0.001253</td>\n",
       "      <td>0.001051</td>\n",
       "      <td>0.000951</td>\n",
       "      <td>...</td>\n",
       "      <td>0.001233</td>\n",
       "      <td>0.001169</td>\n",
       "      <td>0.001214</td>\n",
       "      <td>0.001161</td>\n",
       "      <td>0.001131</td>\n",
       "      <td>0.001220</td>\n",
       "      <td>0.001098</td>\n",
       "      <td>0.001077</td>\n",
       "      <td>0.001177</td>\n",
       "      <td>0.001037</td>\n",
       "    </tr>\n",
       "    <tr>\n",
       "      <th>1500.244141</th>\n",
       "      <td>0.001770</td>\n",
       "      <td>0.001404</td>\n",
       "      <td>0.001291</td>\n",
       "      <td>0.001439</td>\n",
       "      <td>0.001713</td>\n",
       "      <td>0.001177</td>\n",
       "      <td>0.001536</td>\n",
       "      <td>0.001559</td>\n",
       "      <td>0.001344</td>\n",
       "      <td>0.001313</td>\n",
       "      <td>...</td>\n",
       "      <td>0.001328</td>\n",
       "      <td>0.001473</td>\n",
       "      <td>0.001530</td>\n",
       "      <td>0.001326</td>\n",
       "      <td>0.001715</td>\n",
       "      <td>0.001518</td>\n",
       "      <td>0.001309</td>\n",
       "      <td>0.001167</td>\n",
       "      <td>0.001389</td>\n",
       "      <td>0.001513</td>\n",
       "    </tr>\n",
       "  </tbody>\n",
       "</table>\n",
       "<p>1230 rows × 10000 columns</p>\n",
       "</div>"
      ],
      "text/plain": [
       "              SPEK_L1                                                    \\\n",
       "                 0         1         2         3         4         5      \n",
       "frequency                                                                 \n",
       "0.000000     0.004278  0.003139  0.011586  0.009273  0.003870  0.008485   \n",
       "1.220703     0.009542  0.010940  0.019136  0.017790  0.014050  0.016750   \n",
       "2.441406     0.008979  0.011171  0.014117  0.013132  0.013681  0.013346   \n",
       "3.662109     0.006578  0.010567  0.006791  0.007374  0.009128  0.014719   \n",
       "4.882812     0.007937  0.012714  0.008938  0.011082  0.007786  0.012809   \n",
       "...               ...       ...       ...       ...       ...       ...   \n",
       "1495.361328  0.000816  0.000972  0.001025  0.001010  0.000857  0.001090   \n",
       "1496.582031  0.000832  0.001042  0.000909  0.001561  0.000864  0.000863   \n",
       "1497.802734  0.000612  0.000604  0.000727  0.001007  0.000797  0.000956   \n",
       "1499.023438  0.001274  0.001215  0.001263  0.001087  0.001385  0.000910   \n",
       "1500.244141  0.001770  0.001404  0.001291  0.001439  0.001713  0.001177   \n",
       "\n",
       "                                                     ...                      \\\n",
       "                 6         7         8         9     ...      9990      9991   \n",
       "frequency                                            ...                       \n",
       "0.000000     0.006785  0.005389  0.004004  0.008123  ...  0.006891  0.003909   \n",
       "1.220703     0.010004  0.009085  0.014253  0.013506  ...  0.015827  0.008521   \n",
       "2.441406     0.013965  0.009922  0.014753  0.007627  ...  0.012975  0.010304   \n",
       "3.662109     0.012733  0.009532  0.017310  0.009349  ...  0.009150  0.009880   \n",
       "4.882812     0.009691  0.008374  0.014222  0.007496  ...  0.008621  0.012281   \n",
       "...               ...       ...       ...       ...  ...       ...       ...   \n",
       "1495.361328  0.000699  0.000845  0.000878  0.001368  ...  0.000891  0.000753   \n",
       "1496.582031  0.000832  0.000934  0.000853  0.001275  ...  0.001060  0.000809   \n",
       "1497.802734  0.001051  0.000845  0.000898  0.000949  ...  0.000894  0.000903   \n",
       "1499.023438  0.001111  0.001253  0.001051  0.000951  ...  0.001233  0.001169   \n",
       "1500.244141  0.001536  0.001559  0.001344  0.001313  ...  0.001328  0.001473   \n",
       "\n",
       "                                                                         \\\n",
       "                 9992      9993      9994      9995      9996      9997   \n",
       "frequency                                                                 \n",
       "0.000000     0.007896  0.005628  0.004770  0.004412  0.005754  0.006849   \n",
       "1.220703     0.015043  0.010895  0.010846  0.008632  0.009629  0.010295   \n",
       "2.441406     0.010760  0.010412  0.016589  0.009531  0.010809  0.009548   \n",
       "3.662109     0.013986  0.013409  0.012390  0.011891  0.010665  0.008639   \n",
       "4.882812     0.011259  0.010230  0.011486  0.011872  0.011016  0.005757   \n",
       "...               ...       ...       ...       ...       ...       ...   \n",
       "1495.361328  0.000919  0.000894  0.001050  0.000825  0.001267  0.001091   \n",
       "1496.582031  0.000844  0.000915  0.001046  0.000702  0.000941  0.001120   \n",
       "1497.802734  0.000931  0.000905  0.000708  0.001033  0.001003  0.000799   \n",
       "1499.023438  0.001214  0.001161  0.001131  0.001220  0.001098  0.001077   \n",
       "1500.244141  0.001530  0.001326  0.001715  0.001518  0.001309  0.001167   \n",
       "\n",
       "                                 \n",
       "                 9998      9999  \n",
       "frequency                        \n",
       "0.000000     0.008872  0.009382  \n",
       "1.220703     0.018086  0.013683  \n",
       "2.441406     0.013204  0.008135  \n",
       "3.662109     0.011323  0.010458  \n",
       "4.882812     0.008721  0.011187  \n",
       "...               ...       ...  \n",
       "1495.361328  0.001009  0.001190  \n",
       "1496.582031  0.001098  0.001260  \n",
       "1497.802734  0.000759  0.001156  \n",
       "1499.023438  0.001177  0.001037  \n",
       "1500.244141  0.001389  0.001513  \n",
       "\n",
       "[1230 rows x 10000 columns]"
      ]
     },
     "execution_count": 382,
     "metadata": {},
     "output_type": "execute_result"
    }
   ],
   "source": [
    "test_df"
   ]
  },
  {
   "cell_type": "markdown",
   "metadata": {},
   "source": [
    "### method 2:"
   ]
  },
  {
   "cell_type": "code",
   "execution_count": 604,
   "metadata": {},
   "outputs": [
    {
     "data": {
      "text/html": [
       "<div>\n",
       "<style scoped>\n",
       "    .dataframe tbody tr th:only-of-type {\n",
       "        vertical-align: middle;\n",
       "    }\n",
       "\n",
       "    .dataframe tbody tr th {\n",
       "        vertical-align: top;\n",
       "    }\n",
       "\n",
       "    .dataframe thead th {\n",
       "        text-align: right;\n",
       "    }\n",
       "</style>\n",
       "<table border=\"1\" class=\"dataframe\">\n",
       "  <thead>\n",
       "    <tr style=\"text-align: right;\">\n",
       "      <th></th>\n",
       "      <th>frequency</th>\n",
       "      <th>SPEK_L1</th>\n",
       "    </tr>\n",
       "  </thead>\n",
       "  <tbody>\n",
       "    <tr>\n",
       "      <th>0</th>\n",
       "      <td>0.000000</td>\n",
       "      <td>0.004278</td>\n",
       "    </tr>\n",
       "    <tr>\n",
       "      <th>1</th>\n",
       "      <td>1.220703</td>\n",
       "      <td>0.009542</td>\n",
       "    </tr>\n",
       "    <tr>\n",
       "      <th>2</th>\n",
       "      <td>2.441406</td>\n",
       "      <td>0.008979</td>\n",
       "    </tr>\n",
       "    <tr>\n",
       "      <th>3</th>\n",
       "      <td>3.662109</td>\n",
       "      <td>0.006578</td>\n",
       "    </tr>\n",
       "    <tr>\n",
       "      <th>4</th>\n",
       "      <td>4.882812</td>\n",
       "      <td>0.007937</td>\n",
       "    </tr>\n",
       "    <tr>\n",
       "      <th>...</th>\n",
       "      <td>...</td>\n",
       "      <td>...</td>\n",
       "    </tr>\n",
       "    <tr>\n",
       "      <th>1225</th>\n",
       "      <td>1495.361328</td>\n",
       "      <td>0.000816</td>\n",
       "    </tr>\n",
       "    <tr>\n",
       "      <th>1226</th>\n",
       "      <td>1496.582031</td>\n",
       "      <td>0.000832</td>\n",
       "    </tr>\n",
       "    <tr>\n",
       "      <th>1227</th>\n",
       "      <td>1497.802734</td>\n",
       "      <td>0.000612</td>\n",
       "    </tr>\n",
       "    <tr>\n",
       "      <th>1228</th>\n",
       "      <td>1499.023438</td>\n",
       "      <td>0.001274</td>\n",
       "    </tr>\n",
       "    <tr>\n",
       "      <th>1229</th>\n",
       "      <td>1500.244141</td>\n",
       "      <td>0.001770</td>\n",
       "    </tr>\n",
       "  </tbody>\n",
       "</table>\n",
       "<p>1230 rows × 2 columns</p>\n",
       "</div>"
      ],
      "text/plain": [
       "        frequency   SPEK_L1\n",
       "0        0.000000  0.004278\n",
       "1        1.220703  0.009542\n",
       "2        2.441406  0.008979\n",
       "3        3.662109  0.006578\n",
       "4        4.882812  0.007937\n",
       "...           ...       ...\n",
       "1225  1495.361328  0.000816\n",
       "1226  1496.582031  0.000832\n",
       "1227  1497.802734  0.000612\n",
       "1228  1499.023438  0.001274\n",
       "1229  1500.244141  0.001770\n",
       "\n",
       "[1230 rows x 2 columns]"
      ]
     },
     "execution_count": 604,
     "metadata": {},
     "output_type": "execute_result"
    }
   ],
   "source": [
    "test_dfs[0]"
   ]
  },
  {
   "cell_type": "code",
   "execution_count": 383,
   "metadata": {},
   "outputs": [
    {
     "name": "stdout",
     "output_type": "stream",
     "text": [
      "3.734862804412842\n"
     ]
    }
   ],
   "source": [
    "toc=time.time()\n",
    "test_dfs = test_series.apply(dat.load_spectrum_df)\n",
    "tic=time.time()\n",
    "print (tic-toc)"
   ]
  },
  {
   "cell_type": "code",
   "execution_count": 390,
   "metadata": {},
   "outputs": [
    {
     "name": "stdout",
     "output_type": "stream",
     "text": [
      "278.7513175010681\n"
     ]
    }
   ],
   "source": [
    "toc=time.time()\n",
    "df_init = pd.DataFrame()\n",
    "for i in range(0,test_dfs.shape[0]):\n",
    "    df_init = pd.concat([df_init, test_dfs[i].set_index('frequency')], axis=1)\n",
    "tic=time.time()\n",
    "print(tic-toc)"
   ]
  },
  {
   "cell_type": "markdown",
   "metadata": {},
   "source": [
    "### method 3:"
   ]
  },
  {
   "cell_type": "code",
   "execution_count": 542,
   "metadata": {},
   "outputs": [],
   "source": [
    "def load_series_spectrum_df(series_dict_channels):\n",
    "    \"\"\"\n",
    "    Takes a series of dictionaries generated by pd.Series.apply(load_channels)\n",
    "    and returns a dataframe with the frequencies expanded as columns.\n",
    "    If the frequencies are not identically overlapping across rows, the resulting \n",
    "    set of columns will the the union of all the different frequency sets, where \n",
    "    rows not containing a given frequency will be NaN\n",
    "    \"\"\"\n",
    "    dict_df = {}\n",
    "    for i, dict_channels in series_dict_channels.items():\n",
    "        if dict_channels:\n",
    "            for key, value_dict in dict_channels.items():\n",
    "                n_rows = len(value_dict['value_y'])\n",
    "                x_values = np.array(value_dict['delta_x']).dot(np.arange(n_rows))\n",
    "                for j, freq in enumerate(x_values):\n",
    "                    freqs = dict_df.get(freq, {})\n",
    "                    freqs[i] = value_dict['value_y'][j]\n",
    "                    dict_df[freq] = freqs\n",
    "        else:\n",
    "            pass\n",
    "    return pd.DataFrame.from_dict(dict_df)"
   ]
  },
  {
   "cell_type": "code",
   "execution_count": 543,
   "metadata": {},
   "outputs": [
    {
     "name": "stdout",
     "output_type": "stream",
     "text": [
      "16.10282826423645\n"
     ]
    }
   ],
   "source": [
    "toc = time.time()\n",
    "new_func_df = load_series_spectrum_df(test_series)\n",
    "tic = time.time()\n",
    "print (tic-toc)"
   ]
  },
  {
   "cell_type": "code",
   "execution_count": 615,
   "metadata": {},
   "outputs": [
    {
     "data": {
      "text/plain": [
       "0.42"
      ]
     },
     "execution_count": 615,
     "metadata": {},
     "output_type": "execute_result"
    }
   ],
   "source": [
    "(16/10000)*27000*35/60/60"
   ]
  },
  {
   "cell_type": "code",
   "execution_count": 610,
   "metadata": {},
   "outputs": [
    {
     "data": {
      "text/html": [
       "<div>\n",
       "<style scoped>\n",
       "    .dataframe tbody tr th:only-of-type {\n",
       "        vertical-align: middle;\n",
       "    }\n",
       "\n",
       "    .dataframe tbody tr th {\n",
       "        vertical-align: top;\n",
       "    }\n",
       "\n",
       "    .dataframe thead th {\n",
       "        text-align: right;\n",
       "    }\n",
       "</style>\n",
       "<table border=\"1\" class=\"dataframe\">\n",
       "  <thead>\n",
       "    <tr style=\"text-align: right;\">\n",
       "      <th></th>\n",
       "      <th>0.000000</th>\n",
       "      <th>1.220703</th>\n",
       "      <th>2.441406</th>\n",
       "      <th>3.662109</th>\n",
       "      <th>4.882812</th>\n",
       "      <th>6.103516</th>\n",
       "      <th>7.324219</th>\n",
       "      <th>8.544922</th>\n",
       "      <th>9.765625</th>\n",
       "      <th>10.986328</th>\n",
       "      <th>...</th>\n",
       "      <th>1489.257812</th>\n",
       "      <th>1490.478516</th>\n",
       "      <th>1491.699219</th>\n",
       "      <th>1492.919922</th>\n",
       "      <th>1494.140625</th>\n",
       "      <th>1495.361328</th>\n",
       "      <th>1496.582031</th>\n",
       "      <th>1497.802734</th>\n",
       "      <th>1499.023438</th>\n",
       "      <th>1500.244141</th>\n",
       "    </tr>\n",
       "  </thead>\n",
       "  <tbody>\n",
       "    <tr>\n",
       "      <th>0</th>\n",
       "      <td>0.004278</td>\n",
       "      <td>0.009542</td>\n",
       "      <td>0.008979</td>\n",
       "      <td>0.006578</td>\n",
       "      <td>0.007937</td>\n",
       "      <td>0.008791</td>\n",
       "      <td>0.005969</td>\n",
       "      <td>0.008531</td>\n",
       "      <td>0.008269</td>\n",
       "      <td>0.007780</td>\n",
       "      <td>...</td>\n",
       "      <td>0.001142</td>\n",
       "      <td>0.001267</td>\n",
       "      <td>0.001123</td>\n",
       "      <td>0.000849</td>\n",
       "      <td>0.000597</td>\n",
       "      <td>0.000816</td>\n",
       "      <td>0.000832</td>\n",
       "      <td>0.000612</td>\n",
       "      <td>0.001274</td>\n",
       "      <td>0.001770</td>\n",
       "    </tr>\n",
       "    <tr>\n",
       "      <th>1</th>\n",
       "      <td>0.003139</td>\n",
       "      <td>0.010940</td>\n",
       "      <td>0.011171</td>\n",
       "      <td>0.010567</td>\n",
       "      <td>0.012714</td>\n",
       "      <td>0.008783</td>\n",
       "      <td>0.006660</td>\n",
       "      <td>0.007596</td>\n",
       "      <td>0.009492</td>\n",
       "      <td>0.013701</td>\n",
       "      <td>...</td>\n",
       "      <td>0.000845</td>\n",
       "      <td>0.000964</td>\n",
       "      <td>0.001504</td>\n",
       "      <td>0.001450</td>\n",
       "      <td>0.000977</td>\n",
       "      <td>0.000972</td>\n",
       "      <td>0.001042</td>\n",
       "      <td>0.000604</td>\n",
       "      <td>0.001215</td>\n",
       "      <td>0.001404</td>\n",
       "    </tr>\n",
       "    <tr>\n",
       "      <th>2</th>\n",
       "      <td>0.011586</td>\n",
       "      <td>0.019136</td>\n",
       "      <td>0.014117</td>\n",
       "      <td>0.006791</td>\n",
       "      <td>0.008938</td>\n",
       "      <td>0.008643</td>\n",
       "      <td>0.007726</td>\n",
       "      <td>0.005628</td>\n",
       "      <td>0.005584</td>\n",
       "      <td>0.008942</td>\n",
       "      <td>...</td>\n",
       "      <td>0.001136</td>\n",
       "      <td>0.001232</td>\n",
       "      <td>0.001165</td>\n",
       "      <td>0.000706</td>\n",
       "      <td>0.001088</td>\n",
       "      <td>0.001025</td>\n",
       "      <td>0.000909</td>\n",
       "      <td>0.000727</td>\n",
       "      <td>0.001263</td>\n",
       "      <td>0.001291</td>\n",
       "    </tr>\n",
       "    <tr>\n",
       "      <th>3</th>\n",
       "      <td>0.009273</td>\n",
       "      <td>0.017790</td>\n",
       "      <td>0.013132</td>\n",
       "      <td>0.007374</td>\n",
       "      <td>0.011082</td>\n",
       "      <td>0.008738</td>\n",
       "      <td>0.007378</td>\n",
       "      <td>0.008716</td>\n",
       "      <td>0.006782</td>\n",
       "      <td>0.009098</td>\n",
       "      <td>...</td>\n",
       "      <td>0.001042</td>\n",
       "      <td>0.000837</td>\n",
       "      <td>0.000757</td>\n",
       "      <td>0.000558</td>\n",
       "      <td>0.000884</td>\n",
       "      <td>0.001010</td>\n",
       "      <td>0.001561</td>\n",
       "      <td>0.001007</td>\n",
       "      <td>0.001087</td>\n",
       "      <td>0.001439</td>\n",
       "    </tr>\n",
       "    <tr>\n",
       "      <th>4</th>\n",
       "      <td>0.003870</td>\n",
       "      <td>0.014050</td>\n",
       "      <td>0.013681</td>\n",
       "      <td>0.009128</td>\n",
       "      <td>0.007786</td>\n",
       "      <td>0.006690</td>\n",
       "      <td>0.005286</td>\n",
       "      <td>0.008922</td>\n",
       "      <td>0.007155</td>\n",
       "      <td>0.008365</td>\n",
       "      <td>...</td>\n",
       "      <td>0.001080</td>\n",
       "      <td>0.000522</td>\n",
       "      <td>0.000858</td>\n",
       "      <td>0.000742</td>\n",
       "      <td>0.001047</td>\n",
       "      <td>0.000857</td>\n",
       "      <td>0.000864</td>\n",
       "      <td>0.000797</td>\n",
       "      <td>0.001385</td>\n",
       "      <td>0.001713</td>\n",
       "    </tr>\n",
       "    <tr>\n",
       "      <th>...</th>\n",
       "      <td>...</td>\n",
       "      <td>...</td>\n",
       "      <td>...</td>\n",
       "      <td>...</td>\n",
       "      <td>...</td>\n",
       "      <td>...</td>\n",
       "      <td>...</td>\n",
       "      <td>...</td>\n",
       "      <td>...</td>\n",
       "      <td>...</td>\n",
       "      <td>...</td>\n",
       "      <td>...</td>\n",
       "      <td>...</td>\n",
       "      <td>...</td>\n",
       "      <td>...</td>\n",
       "      <td>...</td>\n",
       "      <td>...</td>\n",
       "      <td>...</td>\n",
       "      <td>...</td>\n",
       "      <td>...</td>\n",
       "      <td>...</td>\n",
       "    </tr>\n",
       "    <tr>\n",
       "      <th>9995</th>\n",
       "      <td>0.004412</td>\n",
       "      <td>0.008632</td>\n",
       "      <td>0.009531</td>\n",
       "      <td>0.011891</td>\n",
       "      <td>0.011872</td>\n",
       "      <td>0.012804</td>\n",
       "      <td>0.009502</td>\n",
       "      <td>0.008081</td>\n",
       "      <td>0.004681</td>\n",
       "      <td>0.007217</td>\n",
       "      <td>...</td>\n",
       "      <td>0.000964</td>\n",
       "      <td>0.000856</td>\n",
       "      <td>0.000813</td>\n",
       "      <td>0.000852</td>\n",
       "      <td>0.000899</td>\n",
       "      <td>0.000825</td>\n",
       "      <td>0.000702</td>\n",
       "      <td>0.001033</td>\n",
       "      <td>0.001220</td>\n",
       "      <td>0.001518</td>\n",
       "    </tr>\n",
       "    <tr>\n",
       "      <th>9996</th>\n",
       "      <td>0.005754</td>\n",
       "      <td>0.009629</td>\n",
       "      <td>0.010809</td>\n",
       "      <td>0.010665</td>\n",
       "      <td>0.011016</td>\n",
       "      <td>0.006224</td>\n",
       "      <td>0.009269</td>\n",
       "      <td>0.007519</td>\n",
       "      <td>0.008376</td>\n",
       "      <td>0.006867</td>\n",
       "      <td>...</td>\n",
       "      <td>0.001272</td>\n",
       "      <td>0.000787</td>\n",
       "      <td>0.000702</td>\n",
       "      <td>0.000673</td>\n",
       "      <td>0.000968</td>\n",
       "      <td>0.001267</td>\n",
       "      <td>0.000941</td>\n",
       "      <td>0.001003</td>\n",
       "      <td>0.001098</td>\n",
       "      <td>0.001309</td>\n",
       "    </tr>\n",
       "    <tr>\n",
       "      <th>9997</th>\n",
       "      <td>0.006849</td>\n",
       "      <td>0.010295</td>\n",
       "      <td>0.009548</td>\n",
       "      <td>0.008639</td>\n",
       "      <td>0.005757</td>\n",
       "      <td>0.009922</td>\n",
       "      <td>0.006731</td>\n",
       "      <td>0.006103</td>\n",
       "      <td>0.009017</td>\n",
       "      <td>0.005496</td>\n",
       "      <td>...</td>\n",
       "      <td>0.000647</td>\n",
       "      <td>0.001040</td>\n",
       "      <td>0.001063</td>\n",
       "      <td>0.000835</td>\n",
       "      <td>0.001059</td>\n",
       "      <td>0.001091</td>\n",
       "      <td>0.001120</td>\n",
       "      <td>0.000799</td>\n",
       "      <td>0.001077</td>\n",
       "      <td>0.001167</td>\n",
       "    </tr>\n",
       "    <tr>\n",
       "      <th>9998</th>\n",
       "      <td>0.008872</td>\n",
       "      <td>0.018086</td>\n",
       "      <td>0.013204</td>\n",
       "      <td>0.011323</td>\n",
       "      <td>0.008721</td>\n",
       "      <td>0.011702</td>\n",
       "      <td>0.012838</td>\n",
       "      <td>0.007860</td>\n",
       "      <td>0.007844</td>\n",
       "      <td>0.009205</td>\n",
       "      <td>...</td>\n",
       "      <td>0.000622</td>\n",
       "      <td>0.001133</td>\n",
       "      <td>0.000925</td>\n",
       "      <td>0.001067</td>\n",
       "      <td>0.000662</td>\n",
       "      <td>0.001009</td>\n",
       "      <td>0.001098</td>\n",
       "      <td>0.000759</td>\n",
       "      <td>0.001177</td>\n",
       "      <td>0.001389</td>\n",
       "    </tr>\n",
       "    <tr>\n",
       "      <th>9999</th>\n",
       "      <td>0.009382</td>\n",
       "      <td>0.013683</td>\n",
       "      <td>0.008135</td>\n",
       "      <td>0.010458</td>\n",
       "      <td>0.011187</td>\n",
       "      <td>0.014353</td>\n",
       "      <td>0.010339</td>\n",
       "      <td>0.006875</td>\n",
       "      <td>0.008783</td>\n",
       "      <td>0.009342</td>\n",
       "      <td>...</td>\n",
       "      <td>0.001092</td>\n",
       "      <td>0.000845</td>\n",
       "      <td>0.001015</td>\n",
       "      <td>0.001188</td>\n",
       "      <td>0.000797</td>\n",
       "      <td>0.001190</td>\n",
       "      <td>0.001260</td>\n",
       "      <td>0.001156</td>\n",
       "      <td>0.001037</td>\n",
       "      <td>0.001513</td>\n",
       "    </tr>\n",
       "  </tbody>\n",
       "</table>\n",
       "<p>10000 rows × 1230 columns</p>\n",
       "</div>"
      ],
      "text/plain": [
       "      0.000000     1.220703     2.441406     3.662109     4.882812     \\\n",
       "0        0.004278     0.009542     0.008979     0.006578     0.007937   \n",
       "1        0.003139     0.010940     0.011171     0.010567     0.012714   \n",
       "2        0.011586     0.019136     0.014117     0.006791     0.008938   \n",
       "3        0.009273     0.017790     0.013132     0.007374     0.011082   \n",
       "4        0.003870     0.014050     0.013681     0.009128     0.007786   \n",
       "...           ...          ...          ...          ...          ...   \n",
       "9995     0.004412     0.008632     0.009531     0.011891     0.011872   \n",
       "9996     0.005754     0.009629     0.010809     0.010665     0.011016   \n",
       "9997     0.006849     0.010295     0.009548     0.008639     0.005757   \n",
       "9998     0.008872     0.018086     0.013204     0.011323     0.008721   \n",
       "9999     0.009382     0.013683     0.008135     0.010458     0.011187   \n",
       "\n",
       "      6.103516     7.324219     8.544922     9.765625     10.986328    ...  \\\n",
       "0        0.008791     0.005969     0.008531     0.008269     0.007780  ...   \n",
       "1        0.008783     0.006660     0.007596     0.009492     0.013701  ...   \n",
       "2        0.008643     0.007726     0.005628     0.005584     0.008942  ...   \n",
       "3        0.008738     0.007378     0.008716     0.006782     0.009098  ...   \n",
       "4        0.006690     0.005286     0.008922     0.007155     0.008365  ...   \n",
       "...           ...          ...          ...          ...          ...  ...   \n",
       "9995     0.012804     0.009502     0.008081     0.004681     0.007217  ...   \n",
       "9996     0.006224     0.009269     0.007519     0.008376     0.006867  ...   \n",
       "9997     0.009922     0.006731     0.006103     0.009017     0.005496  ...   \n",
       "9998     0.011702     0.012838     0.007860     0.007844     0.009205  ...   \n",
       "9999     0.014353     0.010339     0.006875     0.008783     0.009342  ...   \n",
       "\n",
       "      1489.257812  1490.478516  1491.699219  1492.919922  1494.140625  \\\n",
       "0        0.001142     0.001267     0.001123     0.000849     0.000597   \n",
       "1        0.000845     0.000964     0.001504     0.001450     0.000977   \n",
       "2        0.001136     0.001232     0.001165     0.000706     0.001088   \n",
       "3        0.001042     0.000837     0.000757     0.000558     0.000884   \n",
       "4        0.001080     0.000522     0.000858     0.000742     0.001047   \n",
       "...           ...          ...          ...          ...          ...   \n",
       "9995     0.000964     0.000856     0.000813     0.000852     0.000899   \n",
       "9996     0.001272     0.000787     0.000702     0.000673     0.000968   \n",
       "9997     0.000647     0.001040     0.001063     0.000835     0.001059   \n",
       "9998     0.000622     0.001133     0.000925     0.001067     0.000662   \n",
       "9999     0.001092     0.000845     0.001015     0.001188     0.000797   \n",
       "\n",
       "      1495.361328  1496.582031  1497.802734  1499.023438  1500.244141  \n",
       "0        0.000816     0.000832     0.000612     0.001274     0.001770  \n",
       "1        0.000972     0.001042     0.000604     0.001215     0.001404  \n",
       "2        0.001025     0.000909     0.000727     0.001263     0.001291  \n",
       "3        0.001010     0.001561     0.001007     0.001087     0.001439  \n",
       "4        0.000857     0.000864     0.000797     0.001385     0.001713  \n",
       "...           ...          ...          ...          ...          ...  \n",
       "9995     0.000825     0.000702     0.001033     0.001220     0.001518  \n",
       "9996     0.001267     0.000941     0.001003     0.001098     0.001309  \n",
       "9997     0.001091     0.001120     0.000799     0.001077     0.001167  \n",
       "9998     0.001009     0.001098     0.000759     0.001177     0.001389  \n",
       "9999     0.001190     0.001260     0.001156     0.001037     0.001513  \n",
       "\n",
       "[10000 rows x 1230 columns]"
      ]
     },
     "execution_count": 610,
     "metadata": {},
     "output_type": "execute_result"
    }
   ],
   "source": [
    "new_func_df"
   ]
  },
  {
   "cell_type": "markdown",
   "metadata": {},
   "source": [
    "new function much faster, adding to read_famos.py \n",
    "\n",
    "check output when frequencies for each row are not overlapping"
   ]
  },
  {
   "cell_type": "code",
   "execution_count": 558,
   "metadata": {},
   "outputs": [],
   "source": [
    "a_dict = df['FFT_RED_SPEK_LP'].head().apply(lambda x: dat.load_channels(x) if x else None)"
   ]
  },
  {
   "cell_type": "code",
   "execution_count": 602,
   "metadata": {},
   "outputs": [
    {
     "data": {
      "text/plain": [
       "{'FFT_RED_SPEK_LP': {'delta_x': 1.0,\n",
       "  'trigger_time': '2020-12-01 22:34:12.6485',\n",
       "  'decode_value_y': '7',\n",
       "  'BytePerValue_value_y': '4',\n",
       "  'buffer_size_value_y': 24,\n",
       "  'buffer_start_value_y': 0,\n",
       "  'X0': 0.0,\n",
       "  'unit_y': '',\n",
       "  'unit_y_scale-factor': 0.0,\n",
       "  'unit_y_scale-factor_Offset': 0.0,\n",
       "  'name': 'FFT_RED_SPEK_LP',\n",
       "  'value_y': array([0.16316135, 0.19757606, 0.82893825, 0.27427515, 0.44376013,\n",
       "         0.32839555], dtype=float32)}}"
      ]
     },
     "execution_count": 602,
     "metadata": {},
     "output_type": "execute_result"
    }
   ],
   "source": [
    "a_dict[0]"
   ]
  },
  {
   "cell_type": "code",
   "execution_count": 601,
   "metadata": {},
   "outputs": [
    {
     "data": {
      "text/plain": [
       "{'FFT_RED_SPEK_LP': {'delta_x': 1.0,\n",
       "  'trigger_time': '2020-12-01 22:33:25.6277001',\n",
       "  'decode_value_y': '7',\n",
       "  'BytePerValue_value_y': '4',\n",
       "  'buffer_size_value_y': 20,\n",
       "  'buffer_start_value_y': 0,\n",
       "  'X0': 0.0,\n",
       "  'unit_y': '',\n",
       "  'unit_y_scale-factor': 0.0,\n",
       "  'unit_y_scale-factor_Offset': 0.0,\n",
       "  'name': 'FFT_RED_SPEK_LP',\n",
       "  'value_y': array([0.7970206 , 0.28262708, 0.16188712, 0.4812585 , 0.33967465],\n",
       "        dtype=float32)}}"
      ]
     },
     "execution_count": 601,
     "metadata": {},
     "output_type": "execute_result"
    }
   ],
   "source": [
    "a_dict[1]"
   ]
  },
  {
   "cell_type": "code",
   "execution_count": 559,
   "metadata": {},
   "outputs": [
    {
     "data": {
      "text/html": [
       "<div>\n",
       "<style scoped>\n",
       "    .dataframe tbody tr th:only-of-type {\n",
       "        vertical-align: middle;\n",
       "    }\n",
       "\n",
       "    .dataframe tbody tr th {\n",
       "        vertical-align: top;\n",
       "    }\n",
       "\n",
       "    .dataframe thead th {\n",
       "        text-align: right;\n",
       "    }\n",
       "</style>\n",
       "<table border=\"1\" class=\"dataframe\">\n",
       "  <thead>\n",
       "    <tr style=\"text-align: right;\">\n",
       "      <th></th>\n",
       "      <th>0.0</th>\n",
       "      <th>1.0</th>\n",
       "      <th>2.0</th>\n",
       "      <th>3.0</th>\n",
       "      <th>4.0</th>\n",
       "      <th>5.0</th>\n",
       "    </tr>\n",
       "  </thead>\n",
       "  <tbody>\n",
       "    <tr>\n",
       "      <th>0</th>\n",
       "      <td>0.163161</td>\n",
       "      <td>0.197576</td>\n",
       "      <td>0.828938</td>\n",
       "      <td>0.274275</td>\n",
       "      <td>0.443760</td>\n",
       "      <td>0.328396</td>\n",
       "    </tr>\n",
       "    <tr>\n",
       "      <th>1</th>\n",
       "      <td>0.797021</td>\n",
       "      <td>0.282627</td>\n",
       "      <td>0.161887</td>\n",
       "      <td>0.481259</td>\n",
       "      <td>0.339675</td>\n",
       "      <td>NaN</td>\n",
       "    </tr>\n",
       "    <tr>\n",
       "      <th>4</th>\n",
       "      <td>0.158976</td>\n",
       "      <td>0.662581</td>\n",
       "      <td>0.299583</td>\n",
       "      <td>0.172476</td>\n",
       "      <td>0.488641</td>\n",
       "      <td>0.357725</td>\n",
       "    </tr>\n",
       "  </tbody>\n",
       "</table>\n",
       "</div>"
      ],
      "text/plain": [
       "        0.0       1.0       2.0       3.0       4.0       5.0\n",
       "0  0.163161  0.197576  0.828938  0.274275  0.443760  0.328396\n",
       "1  0.797021  0.282627  0.161887  0.481259  0.339675       NaN\n",
       "4  0.158976  0.662581  0.299583  0.172476  0.488641  0.357725"
      ]
     },
     "execution_count": 559,
     "metadata": {},
     "output_type": "execute_result"
    }
   ],
   "source": [
    "load_spectrum_df_multi(a_dict)"
   ]
  },
  {
   "cell_type": "code",
   "execution_count": 565,
   "metadata": {},
   "outputs": [],
   "source": [
    "def try_load_channels(x):\n",
    "    try:\n",
    "        return dat.load_channels(x)\n",
    "    except ValueError:\n",
    "        return None"
   ]
  },
  {
   "cell_type": "code",
   "execution_count": 578,
   "metadata": {},
   "outputs": [
    {
     "data": {
      "text/html": [
       "<div>\n",
       "<style scoped>\n",
       "    .dataframe tbody tr th:only-of-type {\n",
       "        vertical-align: middle;\n",
       "    }\n",
       "\n",
       "    .dataframe tbody tr th {\n",
       "        vertical-align: top;\n",
       "    }\n",
       "\n",
       "    .dataframe thead th {\n",
       "        text-align: right;\n",
       "    }\n",
       "</style>\n",
       "<table border=\"1\" class=\"dataframe\">\n",
       "  <thead>\n",
       "    <tr style=\"text-align: right;\">\n",
       "      <th></th>\n",
       "      <th>0.0</th>\n",
       "      <th>1.0</th>\n",
       "      <th>2.0</th>\n",
       "      <th>3.0</th>\n",
       "      <th>4.0</th>\n",
       "      <th>5.0</th>\n",
       "    </tr>\n",
       "  </thead>\n",
       "  <tbody>\n",
       "    <tr>\n",
       "      <th>0</th>\n",
       "      <td>0.163161</td>\n",
       "      <td>0.197576</td>\n",
       "      <td>0.828938</td>\n",
       "      <td>0.274275</td>\n",
       "      <td>0.443760</td>\n",
       "      <td>0.328396</td>\n",
       "    </tr>\n",
       "    <tr>\n",
       "      <th>1</th>\n",
       "      <td>0.797021</td>\n",
       "      <td>0.282627</td>\n",
       "      <td>0.161887</td>\n",
       "      <td>0.481259</td>\n",
       "      <td>0.339675</td>\n",
       "      <td>NaN</td>\n",
       "    </tr>\n",
       "    <tr>\n",
       "      <th>4</th>\n",
       "      <td>0.158976</td>\n",
       "      <td>0.662581</td>\n",
       "      <td>0.299583</td>\n",
       "      <td>0.172476</td>\n",
       "      <td>0.488641</td>\n",
       "      <td>0.357725</td>\n",
       "    </tr>\n",
       "  </tbody>\n",
       "</table>\n",
       "</div>"
      ],
      "text/plain": [
       "        0.0       1.0       2.0       3.0       4.0       5.0\n",
       "0  0.163161  0.197576  0.828938  0.274275  0.443760  0.328396\n",
       "1  0.797021  0.282627  0.161887  0.481259  0.339675       NaN\n",
       "4  0.158976  0.662581  0.299583  0.172476  0.488641  0.357725"
      ]
     },
     "execution_count": 578,
     "metadata": {},
     "output_type": "execute_result"
    }
   ],
   "source": [
    "load_series_spectrum_df(df['FFT_RED_SPEK_LP'].head().apply(lambda x: dat.load_channels(x) if x else None))"
   ]
  },
  {
   "cell_type": "code",
   "execution_count": 577,
   "metadata": {},
   "outputs": [
    {
     "data": {
      "text/html": [
       "<div>\n",
       "<style scoped>\n",
       "    .dataframe tbody tr th:only-of-type {\n",
       "        vertical-align: middle;\n",
       "    }\n",
       "\n",
       "    .dataframe tbody tr th {\n",
       "        vertical-align: top;\n",
       "    }\n",
       "\n",
       "    .dataframe thead th {\n",
       "        text-align: right;\n",
       "    }\n",
       "</style>\n",
       "<table border=\"1\" class=\"dataframe\">\n",
       "  <thead>\n",
       "    <tr style=\"text-align: right;\">\n",
       "      <th></th>\n",
       "      <th>0.0</th>\n",
       "      <th>1.0</th>\n",
       "      <th>2.0</th>\n",
       "      <th>3.0</th>\n",
       "      <th>4.0</th>\n",
       "      <th>5.0</th>\n",
       "    </tr>\n",
       "  </thead>\n",
       "  <tbody>\n",
       "    <tr>\n",
       "      <th>0</th>\n",
       "      <td>0.163161</td>\n",
       "      <td>0.197576</td>\n",
       "      <td>0.828938</td>\n",
       "      <td>0.274275</td>\n",
       "      <td>0.443760</td>\n",
       "      <td>0.328396</td>\n",
       "    </tr>\n",
       "    <tr>\n",
       "      <th>1</th>\n",
       "      <td>0.797021</td>\n",
       "      <td>0.282627</td>\n",
       "      <td>0.161887</td>\n",
       "      <td>0.481259</td>\n",
       "      <td>0.339675</td>\n",
       "      <td>NaN</td>\n",
       "    </tr>\n",
       "    <tr>\n",
       "      <th>4</th>\n",
       "      <td>0.158976</td>\n",
       "      <td>0.662581</td>\n",
       "      <td>0.299583</td>\n",
       "      <td>0.172476</td>\n",
       "      <td>0.488641</td>\n",
       "      <td>0.357725</td>\n",
       "    </tr>\n",
       "  </tbody>\n",
       "</table>\n",
       "</div>"
      ],
      "text/plain": [
       "        0.0       1.0       2.0       3.0       4.0       5.0\n",
       "0  0.163161  0.197576  0.828938  0.274275  0.443760  0.328396\n",
       "1  0.797021  0.282627  0.161887  0.481259  0.339675       NaN\n",
       "4  0.158976  0.662581  0.299583  0.172476  0.488641  0.357725"
      ]
     },
     "execution_count": 577,
     "metadata": {},
     "output_type": "execute_result"
    }
   ],
   "source": [
    "load_series_spectrum_df(df['FFT_RED_SPEK_LP'].head().apply(lambda x: try_load_channels(x) if x else None))"
   ]
  },
  {
   "cell_type": "code",
   "execution_count": 580,
   "metadata": {},
   "outputs": [
    {
     "ename": "ValueError",
     "evalue": "Block expected, no famos format",
     "output_type": "error",
     "traceback": [
      "\u001b[1;31m---------------------------------------------------------------------------\u001b[0m",
      "\u001b[1;31mValueError\u001b[0m                                Traceback (most recent call last)",
      "\u001b[1;32m<ipython-input-580-138660b6424b>\u001b[0m in \u001b[0;36m<module>\u001b[1;34m\u001b[0m\n\u001b[1;32m----> 1\u001b[1;33m \u001b[0mload_series_spectrum_df\u001b[0m\u001b[1;33m(\u001b[0m\u001b[0mdf\u001b[0m\u001b[1;33m[\u001b[0m\u001b[1;34m'FFT_RED_SPEK_L1'\u001b[0m\u001b[1;33m]\u001b[0m\u001b[1;33m.\u001b[0m\u001b[0mhead\u001b[0m\u001b[1;33m(\u001b[0m\u001b[1;33m)\u001b[0m\u001b[1;33m.\u001b[0m\u001b[0mapply\u001b[0m\u001b[1;33m(\u001b[0m\u001b[1;32mlambda\u001b[0m \u001b[0mx\u001b[0m\u001b[1;33m:\u001b[0m \u001b[0mdat\u001b[0m\u001b[1;33m.\u001b[0m\u001b[0mload_channels\u001b[0m\u001b[1;33m(\u001b[0m\u001b[0mx\u001b[0m\u001b[1;33m)\u001b[0m \u001b[1;32mif\u001b[0m \u001b[0mx\u001b[0m \u001b[1;32melse\u001b[0m \u001b[1;32mNone\u001b[0m\u001b[1;33m)\u001b[0m\u001b[1;33m)\u001b[0m\u001b[1;33m\u001b[0m\u001b[1;33m\u001b[0m\u001b[0m\n\u001b[0m",
      "\u001b[1;32m~\\anaconda3\\envs\\process-optimization\\lib\\site-packages\\pandas\\core\\series.py\u001b[0m in \u001b[0;36mapply\u001b[1;34m(self, func, convert_dtype, args, **kwds)\u001b[0m\n\u001b[0;32m   4198\u001b[0m             \u001b[1;32melse\u001b[0m\u001b[1;33m:\u001b[0m\u001b[1;33m\u001b[0m\u001b[1;33m\u001b[0m\u001b[0m\n\u001b[0;32m   4199\u001b[0m                 \u001b[0mvalues\u001b[0m \u001b[1;33m=\u001b[0m \u001b[0mself\u001b[0m\u001b[1;33m.\u001b[0m\u001b[0mastype\u001b[0m\u001b[1;33m(\u001b[0m\u001b[0mobject\u001b[0m\u001b[1;33m)\u001b[0m\u001b[1;33m.\u001b[0m\u001b[0m_values\u001b[0m\u001b[1;33m\u001b[0m\u001b[1;33m\u001b[0m\u001b[0m\n\u001b[1;32m-> 4200\u001b[1;33m                 \u001b[0mmapped\u001b[0m \u001b[1;33m=\u001b[0m \u001b[0mlib\u001b[0m\u001b[1;33m.\u001b[0m\u001b[0mmap_infer\u001b[0m\u001b[1;33m(\u001b[0m\u001b[0mvalues\u001b[0m\u001b[1;33m,\u001b[0m \u001b[0mf\u001b[0m\u001b[1;33m,\u001b[0m \u001b[0mconvert\u001b[0m\u001b[1;33m=\u001b[0m\u001b[0mconvert_dtype\u001b[0m\u001b[1;33m)\u001b[0m\u001b[1;33m\u001b[0m\u001b[1;33m\u001b[0m\u001b[0m\n\u001b[0m\u001b[0;32m   4201\u001b[0m \u001b[1;33m\u001b[0m\u001b[0m\n\u001b[0;32m   4202\u001b[0m         \u001b[1;32mif\u001b[0m \u001b[0mlen\u001b[0m\u001b[1;33m(\u001b[0m\u001b[0mmapped\u001b[0m\u001b[1;33m)\u001b[0m \u001b[1;32mand\u001b[0m \u001b[0misinstance\u001b[0m\u001b[1;33m(\u001b[0m\u001b[0mmapped\u001b[0m\u001b[1;33m[\u001b[0m\u001b[1;36m0\u001b[0m\u001b[1;33m]\u001b[0m\u001b[1;33m,\u001b[0m \u001b[0mSeries\u001b[0m\u001b[1;33m)\u001b[0m\u001b[1;33m:\u001b[0m\u001b[1;33m\u001b[0m\u001b[1;33m\u001b[0m\u001b[0m\n",
      "\u001b[1;32mpandas\\_libs\\lib.pyx\u001b[0m in \u001b[0;36mpandas._libs.lib.map_infer\u001b[1;34m()\u001b[0m\n",
      "\u001b[1;32m<ipython-input-580-138660b6424b>\u001b[0m in \u001b[0;36m<lambda>\u001b[1;34m(x)\u001b[0m\n\u001b[1;32m----> 1\u001b[1;33m \u001b[0mload_series_spectrum_df\u001b[0m\u001b[1;33m(\u001b[0m\u001b[0mdf\u001b[0m\u001b[1;33m[\u001b[0m\u001b[1;34m'FFT_RED_SPEK_L1'\u001b[0m\u001b[1;33m]\u001b[0m\u001b[1;33m.\u001b[0m\u001b[0mhead\u001b[0m\u001b[1;33m(\u001b[0m\u001b[1;33m)\u001b[0m\u001b[1;33m.\u001b[0m\u001b[0mapply\u001b[0m\u001b[1;33m(\u001b[0m\u001b[1;32mlambda\u001b[0m \u001b[0mx\u001b[0m\u001b[1;33m:\u001b[0m \u001b[0mdat\u001b[0m\u001b[1;33m.\u001b[0m\u001b[0mload_channels\u001b[0m\u001b[1;33m(\u001b[0m\u001b[0mx\u001b[0m\u001b[1;33m)\u001b[0m \u001b[1;32mif\u001b[0m \u001b[0mx\u001b[0m \u001b[1;32melse\u001b[0m \u001b[1;32mNone\u001b[0m\u001b[1;33m)\u001b[0m\u001b[1;33m)\u001b[0m\u001b[1;33m\u001b[0m\u001b[1;33m\u001b[0m\u001b[0m\n\u001b[0m",
      "\u001b[1;32m~\\Documents\\Propulsion_Bootcamp\\process-optimization\\notebooks\\read_famos.py\u001b[0m in \u001b[0;36mload_channels\u001b[1;34m(file_or_data, filter, show_print)\u001b[0m\n\u001b[0;32m     90\u001b[0m     \u001b[0mchannel\u001b[0m \u001b[1;33m=\u001b[0m \u001b[1;32mNone\u001b[0m\u001b[1;33m\u001b[0m\u001b[1;33m\u001b[0m\u001b[0m\n\u001b[0;32m     91\u001b[0m     \u001b[0mcount\u001b[0m \u001b[1;33m=\u001b[0m \u001b[1;33m-\u001b[0m\u001b[1;36m1\u001b[0m\u001b[1;33m\u001b[0m\u001b[1;33m\u001b[0m\u001b[0m\n\u001b[1;32m---> 92\u001b[1;33m     \u001b[1;32mfor\u001b[0m \u001b[0mtyp\u001b[0m\u001b[1;33m,\u001b[0m \u001b[0mnum\u001b[0m\u001b[1;33m,\u001b[0m \u001b[0mblock\u001b[0m\u001b[1;33m,\u001b[0m \u001b[0mblockValue\u001b[0m \u001b[1;32min\u001b[0m \u001b[0m_iter_blocks\u001b[0m\u001b[1;33m(\u001b[0m\u001b[0mdata\u001b[0m\u001b[1;33m)\u001b[0m\u001b[1;33m:\u001b[0m\u001b[1;33m\u001b[0m\u001b[1;33m\u001b[0m\u001b[0m\n\u001b[0m\u001b[0;32m     93\u001b[0m         \u001b[1;31m# save information of channel which is for all the same (until******)\u001b[0m\u001b[1;33m\u001b[0m\u001b[1;33m\u001b[0m\u001b[1;33m\u001b[0m\u001b[0m\n\u001b[0;32m     94\u001b[0m         \u001b[1;32mif\u001b[0m \u001b[0mtyp\u001b[0m \u001b[1;33m==\u001b[0m \u001b[1;34mb\"CF\"\u001b[0m\u001b[1;33m:\u001b[0m\u001b[1;33m\u001b[0m\u001b[1;33m\u001b[0m\u001b[0m\n",
      "\u001b[1;32m~\\Documents\\Propulsion_Bootcamp\\process-optimization\\notebooks\\read_famos.py\u001b[0m in \u001b[0;36m_iter_blocks\u001b[1;34m(data)\u001b[0m\n\u001b[0;32m     60\u001b[0m             \u001b[0mentry\u001b[0m \u001b[1;33m=\u001b[0m \u001b[0mre_block\u001b[0m\u001b[1;33m.\u001b[0m\u001b[0mmatch\u001b[0m\u001b[1;33m(\u001b[0m\u001b[0mdata\u001b[0m\u001b[1;33m,\u001b[0m \u001b[0mstart\u001b[0m \u001b[1;33m+\u001b[0m \u001b[1;36m3\u001b[0m\u001b[1;33m)\u001b[0m\u001b[1;33m\u001b[0m\u001b[1;33m\u001b[0m\u001b[0m\n\u001b[0;32m     61\u001b[0m             \u001b[1;32mif\u001b[0m \u001b[0mentry\u001b[0m \u001b[1;32mis\u001b[0m \u001b[1;32mNone\u001b[0m\u001b[1;33m:\u001b[0m\u001b[1;33m\u001b[0m\u001b[1;33m\u001b[0m\u001b[0m\n\u001b[1;32m---> 62\u001b[1;33m                 \u001b[1;32mraise\u001b[0m \u001b[0mValueError\u001b[0m\u001b[1;33m(\u001b[0m\u001b[1;34m\"Block expected, no famos format\"\u001b[0m\u001b[1;33m)\u001b[0m\u001b[1;33m\u001b[0m\u001b[1;33m\u001b[0m\u001b[0m\n\u001b[0m\u001b[0;32m     63\u001b[0m             \u001b[1;32melse\u001b[0m\u001b[1;33m:\u001b[0m\u001b[1;33m\u001b[0m\u001b[1;33m\u001b[0m\u001b[0m\n\u001b[0;32m     64\u001b[0m                 \u001b[0mstart\u001b[0m \u001b[1;33m+=\u001b[0m \u001b[1;36m3\u001b[0m\u001b[1;33m\u001b[0m\u001b[1;33m\u001b[0m\u001b[0m\n",
      "\u001b[1;31mValueError\u001b[0m: Block expected, no famos format"
     ]
    }
   ],
   "source": [
    "load_series_spectrum_df(df['FFT_RED_SPEK_L1'].head().apply(lambda x: dat.load_channels(x) if x else None))"
   ]
  },
  {
   "cell_type": "code",
   "execution_count": 581,
   "metadata": {},
   "outputs": [
    {
     "data": {
      "text/html": [
       "<div>\n",
       "<style scoped>\n",
       "    .dataframe tbody tr th:only-of-type {\n",
       "        vertical-align: middle;\n",
       "    }\n",
       "\n",
       "    .dataframe tbody tr th {\n",
       "        vertical-align: top;\n",
       "    }\n",
       "\n",
       "    .dataframe thead th {\n",
       "        text-align: right;\n",
       "    }\n",
       "</style>\n",
       "<table border=\"1\" class=\"dataframe\">\n",
       "  <thead>\n",
       "    <tr style=\"text-align: right;\">\n",
       "      <th></th>\n",
       "    </tr>\n",
       "  </thead>\n",
       "  <tbody>\n",
       "  </tbody>\n",
       "</table>\n",
       "</div>"
      ],
      "text/plain": [
       "Empty DataFrame\n",
       "Columns: []\n",
       "Index: []"
      ]
     },
     "execution_count": 581,
     "metadata": {},
     "output_type": "execute_result"
    }
   ],
   "source": [
    "load_series_spectrum_df(df['FFT_RED_SPEK_L1'].head().apply(lambda x: try_load_channels(x) if x else None))"
   ]
  },
  {
   "cell_type": "code",
   "execution_count": 582,
   "metadata": {},
   "outputs": [
    {
     "data": {
      "text/plain": [
       "0    None\n",
       "1    None\n",
       "2    None\n",
       "3    None\n",
       "4    None\n",
       "Name: FFT_RED_SPEK_L1, dtype: object"
      ]
     },
     "execution_count": 582,
     "metadata": {},
     "output_type": "execute_result"
    }
   ],
   "source": [
    "df['FFT_RED_SPEK_L1'].head().apply(lambda x: try_load_channels(x) if x else None)"
   ]
  },
  {
   "cell_type": "code",
   "execution_count": 585,
   "metadata": {},
   "outputs": [
    {
     "data": {
      "text/plain": [
       "13.5"
      ]
     },
     "execution_count": 585,
     "metadata": {},
     "output_type": "execute_result"
    }
   ],
   "source": [
    "(5/10000)*27000"
   ]
  },
  {
   "cell_type": "code",
   "execution_count": 595,
   "metadata": {},
   "outputs": [
    {
     "data": {
      "text/plain": [
       "<AxesSubplot:>"
      ]
     },
     "execution_count": 595,
     "metadata": {},
     "output_type": "execute_result"
    },
    {
     "data": {
      "image/png": "[encoded data removed]",
      "text/plain": [
       "<Figure size 432x288 with 1 Axes>"
      ]
     },
     "metadata": {
      "needs_background": "light"
     },
     "output_type": "display_data"
    }
   ],
   "source": [
    "load_series_spectrum_df(df['FFT_RED_SPEK_LP'].head().apply(lambda x: try_load_channels(x) if x else None)).iloc[0,:].plot.line()"
   ]
  },
  {
   "cell_type": "code",
   "execution_count": 596,
   "metadata": {},
   "outputs": [
    {
     "data": {
      "text/plain": [
       "<AxesSubplot:>"
      ]
     },
     "execution_count": 596,
     "metadata": {},
     "output_type": "execute_result"
    },
    {
     "data": {
      "image/png": "[encoded data removed]",
      "text/plain": [
       "<Figure size 432x288 with 1 Axes>"
      ]
     },
     "metadata": {
      "needs_background": "light"
     },
     "output_type": "display_data"
    }
   ],
   "source": [
    "load_series_spectrum_df(df['FFT_RED_FREQ_SPEK_LP'].head().apply(lambda x: try_load_channels(x) if x else None)).iloc[0,:].plot.line()"
   ]
  },
  {
   "cell_type": "code",
   "execution_count": 597,
   "metadata": {},
   "outputs": [
    {
     "data": {
      "text/plain": [
       "<AxesSubplot:>"
      ]
     },
     "execution_count": 597,
     "metadata": {},
     "output_type": "execute_result"
    },
    {
     "data": {
      "image/png": "[encoded data removed]",
      "text/plain": [
       "<Figure size 432x288 with 1 Axes>"
      ]
     },
     "metadata": {
      "needs_background": "light"
     },
     "output_type": "display_data"
    }
   ],
   "source": [
    "load_series_spectrum_df(df['SPEK_LP'].head().apply(lambda x: try_load_channels(x) if x else None)).iloc[0,:].plot.line()"
   ]
  },
  {
   "cell_type": "markdown",
   "metadata": {},
   "source": [
    "_RED_ columns are for visualization pusposes, will drop for now"
   ]
  },
  {
   "cell_type": "code",
   "execution_count": 617,
   "metadata": {},
   "outputs": [],
   "source": [
    "df = df.drop(['FFT_RED_SPEK_L1',\n",
    "            'FFT_RED_SPEK_L2',\n",
    "            'FFT_RED_SPEK_L3',\n",
    "            'FFT_RED_SPEK_LP',\n",
    "            'FFT_RED_SPEK_R1',\n",
    "            'FFT_RED_SPEK_R2',\n",
    "            'FFT_RED_SPEK_R3',\n",
    "            'FFT_RED_SPEK_RP',\n",
    "            'FFT_RED_FREQ_SPEK_RP',\n",
    "            'FFT_RED_FREQ_SPEK_R1',\n",
    "            'FFT_RED_FREQ_SPEK_R2',\n",
    "            'FFT_RED_FREQ_SPEK_R3',\n",
    "            'FFT_RED_FREQ_SPEK_L1',\n",
    "            'FFT_RED_FREQ_SPEK_L2',\n",
    "            'FFT_RED_FREQ_SPEK_L3'], axis=1)"
   ]
  },
  {
   "cell_type": "code",
   "execution_count": 618,
   "metadata": {},
   "outputs": [
    {
     "data": {
      "text/plain": [
       "(113035, 97)"
      ]
     },
     "execution_count": 618,
     "metadata": {},
     "output_type": "execute_result"
    }
   ],
   "source": [
    "df.shape"
   ]
  },
  {
   "cell_type": "code",
   "execution_count": 726,
   "metadata": {},
   "outputs": [],
   "source": [
    "spectral_data = [\n",
    "    'SPEK_L1',\n",
    "    'SPEK_L2',\n",
    "    'SPEK_L3',\n",
    "    'SPEK_LP',\n",
    "    'SPEK_R1_1',\n",
    "    'SPEK_R2_1',\n",
    "    'SPEK_R3_1',\n",
    "    'SPEK_RP_1',\n",
    "    'SPEK_R1_2',\n",
    "    'SPEK_R2_2',\n",
    "    'SPEK_R3_2',\n",
    "    'SPEK_RP_2',\n",
    "    'SPEK_R1_3',\n",
    "    'SPEK_R2_3',\n",
    "    'SPEK_R3_3',\n",
    "    'SPEK_RP_3',\n",
    "    'SPEK_R1_4',\n",
    "    'SPEK_R2_4',\n",
    "    'SPEK_R3_4',\n",
    "    'SPEK_RP_4',\n",
    "    'SPEK_R1_5',\n",
    "    'SPEK_R2_5',\n",
    "    'SPEK_R3_5',\n",
    "    'SPEK_RP_5',\n",
    "    'SPEK_R1_6',\n",
    "    'SPEK_R2_6',\n",
    "    'SPEK_R3_6',\n",
    "    'SPEK_RP_6']"
   ]
  },
  {
   "cell_type": "code",
   "execution_count": 666,
   "metadata": {},
   "outputs": [],
   "source": [
    "def nio_labels(nio_series):\n",
    "    nio_df = pd.DataFrame(nio_series.astype(str).str.rjust(10,'0').apply(lambda x: [i for i in x] if len(x)==10 else None).apply(pd.Series))\n",
    "    nio_df.columns = ['1,000,000,000', '100,000,000', '10,000,000', '1,000,000', '100,000', '10,000', '1,000', '100', '10', '1']\n",
    "    return nio_df"
   ]
  },
  {
   "cell_type": "code",
   "execution_count": 667,
   "metadata": {},
   "outputs": [],
   "source": [
    "df_split_labels = df.join(nio_labels(df['NIO']))"
   ]
  },
  {
   "cell_type": "markdown",
   "metadata": {},
   "source": [
    "## Export spectral data to csv files"
   ]
  },
  {
   "cell_type": "code",
   "execution_count": 725,
   "metadata": {},
   "outputs": [],
   "source": [
    "def try_load_channels(x):\n",
    "    try:\n",
    "        return dat.load_channels(x)\n",
    "    except ValueError:\n",
    "        return None\n",
    "    \n",
    "def load_series_spectrum_df(series_dict_channels):\n",
    "    \"\"\"\n",
    "    Takes a series of dictionaries generated by pd.Series.apply(load_channels)\n",
    "    and returns a dataframe with the frequencies expanded as columns.\n",
    "    If the frequencies are not identically overlapping across rows, the resulting \n",
    "    set of columns will the the union of all the different frequency sets, where \n",
    "    rows not containing a given frequency will be NaN\n",
    "    \"\"\"\n",
    "    dict_df = {}\n",
    "    for i, dict_channels in series_dict_channels.items():\n",
    "        if dict_channels:\n",
    "            for key, value_dict in dict_channels.items():\n",
    "                n_rows = len(value_dict['value_y'])\n",
    "                x_values = np.array(value_dict['delta_x']).dot(np.arange(n_rows))\n",
    "                for j, freq in enumerate(x_values):\n",
    "                    freqs = dict_df.get(freq, {})\n",
    "                    freqs[i] = value_dict['value_y'][j]\n",
    "                    dict_df[freq] = freqs\n",
    "        else:\n",
    "            pass\n",
    "    return pd.DataFrame.from_dict(dict_df)"
   ]
  },
  {
   "cell_type": "code",
   "execution_count": 728,
   "metadata": {},
   "outputs": [
    {
     "name": "stdout",
     "output_type": "stream",
     "text": [
      "SPEK_L1: 1022.1041977405548 sec; shape: (113035, 1230); columns containing NAs: Float64Index([], dtype='float64')\n",
      "SPEK_L2: 1006.4206852912903 sec; shape: (113035, 1230); columns containing NAs: Float64Index([], dtype='float64')\n",
      "SPEK_L3: 889.1884806156158 sec; shape: (113035, 1230); columns containing NAs: Float64Index([], dtype='float64')\n",
      "SPEK_LP: 166.55589032173157 sec; shape: (113035, 513); columns containing NAs: Float64Index([250.9765625,  251.953125, 252.9296875,   253.90625, 254.8828125,\n",
      "               255.859375, 256.8359375,    257.8125, 258.7890625,  259.765625,\n",
      "              ...\n",
      "              491.2109375,    492.1875, 493.1640625,  494.140625, 495.1171875,\n",
      "                496.09375, 497.0703125,  498.046875, 499.0234375,       500.0],\n",
      "             dtype='float64', length=256)\n",
      "SPEK_R1_1: 812.3896791934967 sec; shape: (113032, 1230); columns containing NAs: Float64Index([], dtype='float64')\n",
      "SPEK_R2_1: 876.0915551185608 sec; shape: (113032, 1230); columns containing NAs: Float64Index([], dtype='float64')\n",
      "SPEK_R3_1: 925.5334343910217 sec; shape: (113032, 1230); columns containing NAs: Float64Index([], dtype='float64')\n",
      "SPEK_RP_1: 165.60066270828247 sec; shape: (113032, 513); columns containing NAs: Float64Index([250.9765625,  251.953125, 252.9296875,   253.90625, 254.8828125,\n",
      "               255.859375, 256.8359375,    257.8125, 258.7890625,  259.765625,\n",
      "              ...\n",
      "              491.2109375,    492.1875, 493.1640625,  494.140625, 495.1171875,\n",
      "                496.09375, 497.0703125,  498.046875, 499.0234375,       500.0],\n",
      "             dtype='float64', length=256)\n",
      "SPEK_R1_2: 842.4172923564911 sec; shape: (113032, 1230); columns containing NAs: Float64Index([], dtype='float64')\n",
      "SPEK_R2_2: 977.6459631919861 sec; shape: (113032, 1230); columns containing NAs: Float64Index([], dtype='float64')\n",
      "SPEK_R3_2 failed: (<class 'KeyboardInterrupt'>, KeyboardInterrupt())\n",
      "SPEK_RP_2: 192.16496348381042 sec; shape: (113032, 513); columns containing NAs: Float64Index([250.9765625,  251.953125, 252.9296875,   253.90625, 254.8828125,\n",
      "               255.859375, 256.8359375,    257.8125, 258.7890625,  259.765625,\n",
      "              ...\n",
      "              491.2109375,    492.1875, 493.1640625,  494.140625, 495.1171875,\n",
      "                496.09375, 497.0703125,  498.046875, 499.0234375,       500.0],\n",
      "             dtype='float64', length=256)\n",
      "SPEK_R1_3: 3.2549993991851807 sec; shape: (1, 1230); columns containing NAs: Float64Index([], dtype='float64')\n",
      "SPEK_R2_3: 2.2380008697509766 sec; shape: (1, 1230); columns containing NAs: Float64Index([], dtype='float64')\n",
      "SPEK_R3_3: 2.2180004119873047 sec; shape: (1, 1230); columns containing NAs: Float64Index([], dtype='float64')\n",
      "SPEK_RP_3: 2.203003406524658 sec; shape: (1, 257); columns containing NAs: Float64Index([], dtype='float64')\n",
      "SPEK_R1_4: 2.1989991664886475 sec; shape: (1, 1230); columns containing NAs: Float64Index([], dtype='float64')\n",
      "SPEK_R2_4: 2.237999677658081 sec; shape: (1, 1230); columns containing NAs: Float64Index([], dtype='float64')\n",
      "SPEK_R3_4: 2.2865047454833984 sec; shape: (1, 1230); columns containing NAs: Float64Index([], dtype='float64')\n",
      "SPEK_RP_4: 2.2370033264160156 sec; shape: (1, 257); columns containing NAs: Float64Index([], dtype='float64')\n",
      "SPEK_R1_5: 2.256998062133789 sec; shape: (0, 0); columns containing NAs: Index([], dtype='object')\n",
      "SPEK_R2_5: 2.153003454208374 sec; shape: (0, 0); columns containing NAs: Index([], dtype='object')\n",
      "SPEK_R3_5: 2.1219992637634277 sec; shape: (0, 0); columns containing NAs: Index([], dtype='object')\n",
      "SPEK_RP_5: 2.2219955921173096 sec; shape: (0, 0); columns containing NAs: Index([], dtype='object')\n",
      "SPEK_R1_6: 2.1730005741119385 sec; shape: (0, 0); columns containing NAs: Index([], dtype='object')\n",
      "SPEK_R2_6: 2.1599204540252686 sec; shape: (0, 0); columns containing NAs: Index([], dtype='object')\n",
      "SPEK_R3_6: 2.2010040283203125 sec; shape: (0, 0); columns containing NAs: Index([], dtype='object')\n",
      "SPEK_RP_6: 2.1709938049316406 sec; shape: (0, 0); columns containing NAs: Index([], dtype='object')\n",
      "total_time = 33897.12958621979 sec\n"
     ]
    }
   ],
   "source": [
    "import sys\n",
    "start_time = time.time()\n",
    "for col in spectral_data:\n",
    "    try:\n",
    "        toc=time.time()\n",
    "        df_speck = load_series_spectrum_df(df[col].apply(lambda x: try_load_channels(x) if x else None))\n",
    "        df_speck.to_csv(f'../data/processed/spectral_data/MA_NR-78635_{col}.csv', header=True, index=True, index_label=False)\n",
    "        tic=time.time()\n",
    "        print(f'{col}: {tic-toc} sec; shape: {df_speck.shape}; columns containing NAs: {df_speck.columns[df_speck.isna().sum() > 0]}')\n",
    "    except: \n",
    "        print(f'{col} failed: {sys.exc_info()[0:2]}')\n",
    "end_time = time.time()\n",
    "print(f'total_time = {end_time - start_time} sec')"
   ]
  },
  {
   "cell_type": "code",
   "execution_count": 736,
   "metadata": {},
   "outputs": [
    {
     "name": "stdout",
     "output_type": "stream",
     "text": [
      "SPEK_R3_2: 926.0304789543152 sec; shape: (113032, 1230); columns containing NAs: Float64Index([], dtype='float64')\n"
     ]
    }
   ],
   "source": [
    "## rerun SPEK_R3_2\n",
    "for col in spectral_data[10:11]:\n",
    "    try:\n",
    "        toc=time.time()\n",
    "        df_speck = load_series_spectrum_df(df[col].apply(lambda x: try_load_channels(x) if x else None))\n",
    "        df_speck.to_csv(f'../data/processed/spectral_data/MA_NR-78635_{col}.csv', header=True, index=True, index_label=False)\n",
    "        tic=time.time()\n",
    "        print(f'{col}: {tic-toc} sec; shape: {df_speck.shape}; columns containing NAs: {df_speck.columns[df_speck.isna().sum() > 0]}')\n",
    "    except: \n",
    "        print(f'{col} failed: {sys.exc_info()[0:2]}')\n"
   ]
  },
  {
   "cell_type": "code",
   "execution_count": 719,
   "metadata": {},
   "outputs": [],
   "source": [
    "test_load = pd.read_csv('../data/processed/spectral_data/MA_NR-78635_SPEK_LP.csv')"
   ]
  },
  {
   "cell_type": "code",
   "execution_count": 737,
   "metadata": {},
   "outputs": [],
   "source": [
    "def load_series_spectrum_df_2(series_dict_channels):\n",
    "    \"\"\"\n",
    "    Takes a series of dictionaries generated by pd.Series.apply(load_channels)\n",
    "    and returns a dataframe with the frequencies expanded as columns.\n",
    "    If the frequencies are not identically overlapping across rows, the resulting \n",
    "    set of columns will the the union of all the different frequency sets, where \n",
    "    rows not containing a given frequency will be NaN\n",
    "    \"\"\"\n",
    "    dict_df = {}\n",
    "    for i, dict_channels in series_dict_channels.items():\n",
    "        if dict_channels:\n",
    "            for key, value_dict in dict_channels.items():\n",
    "                n_rows = len(value_dict['value_y'])\n",
    "                x_values = np.array(value_dict['delta_x']).dot(np.arange(n_rows))\n",
    "                for j, freq in enumerate(x_values):\n",
    "                    try: \n",
    "                        dict_df[freq][i] = value_dict['value_y'][j]\n",
    "                    except KeyError:\n",
    "                        dict_df[freq] = {i: value_dict['value_y'][j]}\n",
    "        else:\n",
    "            pass\n",
    "    return pd.DataFrame.from_dict(dict_df)"
   ]
  },
  {
   "cell_type": "code",
   "execution_count": 738,
   "metadata": {},
   "outputs": [
    {
     "name": "stdout",
     "output_type": "stream",
     "text": [
      "SPEK_R3_2: 689.3304252624512 sec; shape: (113032, 1230); columns containing NAs: Float64Index([], dtype='float64')\n"
     ]
    }
   ],
   "source": [
    "## rerun SPEK_R3_2\n",
    "for col in spectral_data[10:11]:\n",
    "    try:\n",
    "        toc=time.time()\n",
    "        df_speck = load_series_spectrum_df_2(df[col].apply(lambda x: try_load_channels(x) if x else None))\n",
    "        tic=time.time()\n",
    "        print(f'{col}: {tic-toc} sec; shape: {df_speck.shape}; columns containing NAs: {df_speck.columns[df_speck.isna().sum() > 0]}')\n",
    "    except: \n",
    "        print(f'{col} failed: {sys.exc_info()[0:2]}')\n"
   ]
  },
  {
   "cell_type": "code",
   "execution_count": 740,
   "metadata": {},
   "outputs": [
    {
     "data": {
      "text/html": [
       "<div>\n",
       "<style scoped>\n",
       "    .dataframe tbody tr th:only-of-type {\n",
       "        vertical-align: middle;\n",
       "    }\n",
       "\n",
       "    .dataframe tbody tr th {\n",
       "        vertical-align: top;\n",
       "    }\n",
       "\n",
       "    .dataframe thead th {\n",
       "        text-align: right;\n",
       "    }\n",
       "</style>\n",
       "<table border=\"1\" class=\"dataframe\">\n",
       "  <thead>\n",
       "    <tr style=\"text-align: right;\">\n",
       "      <th></th>\n",
       "      <th>0.000000</th>\n",
       "      <th>1.220703</th>\n",
       "      <th>2.441406</th>\n",
       "      <th>3.662109</th>\n",
       "      <th>4.882812</th>\n",
       "      <th>6.103516</th>\n",
       "      <th>7.324219</th>\n",
       "      <th>8.544922</th>\n",
       "      <th>9.765625</th>\n",
       "      <th>10.986328</th>\n",
       "      <th>...</th>\n",
       "      <th>1489.257812</th>\n",
       "      <th>1490.478516</th>\n",
       "      <th>1491.699219</th>\n",
       "      <th>1492.919922</th>\n",
       "      <th>1494.140625</th>\n",
       "      <th>1495.361328</th>\n",
       "      <th>1496.582031</th>\n",
       "      <th>1497.802734</th>\n",
       "      <th>1499.023438</th>\n",
       "      <th>1500.244141</th>\n",
       "    </tr>\n",
       "  </thead>\n",
       "  <tbody>\n",
       "    <tr>\n",
       "      <th>0</th>\n",
       "      <td>0.003016</td>\n",
       "      <td>0.003218</td>\n",
       "      <td>0.002137</td>\n",
       "      <td>0.001445</td>\n",
       "      <td>0.001919</td>\n",
       "      <td>0.001701</td>\n",
       "      <td>0.001086</td>\n",
       "      <td>0.001079</td>\n",
       "      <td>0.001717</td>\n",
       "      <td>0.001692</td>\n",
       "      <td>...</td>\n",
       "      <td>0.002782</td>\n",
       "      <td>0.002200</td>\n",
       "      <td>0.002816</td>\n",
       "      <td>0.002101</td>\n",
       "      <td>0.002467</td>\n",
       "      <td>0.003473</td>\n",
       "      <td>0.002741</td>\n",
       "      <td>0.003360</td>\n",
       "      <td>0.002223</td>\n",
       "      <td>0.002836</td>\n",
       "    </tr>\n",
       "    <tr>\n",
       "      <th>1</th>\n",
       "      <td>0.002304</td>\n",
       "      <td>0.004142</td>\n",
       "      <td>0.002187</td>\n",
       "      <td>0.002218</td>\n",
       "      <td>0.002217</td>\n",
       "      <td>0.002621</td>\n",
       "      <td>0.001819</td>\n",
       "      <td>0.001895</td>\n",
       "      <td>0.001156</td>\n",
       "      <td>0.001503</td>\n",
       "      <td>...</td>\n",
       "      <td>0.002606</td>\n",
       "      <td>0.002309</td>\n",
       "      <td>0.002504</td>\n",
       "      <td>0.003267</td>\n",
       "      <td>0.002524</td>\n",
       "      <td>0.002605</td>\n",
       "      <td>0.002655</td>\n",
       "      <td>0.003054</td>\n",
       "      <td>0.003970</td>\n",
       "      <td>0.002770</td>\n",
       "    </tr>\n",
       "    <tr>\n",
       "      <th>2</th>\n",
       "      <td>0.001961</td>\n",
       "      <td>0.003091</td>\n",
       "      <td>0.001870</td>\n",
       "      <td>0.002018</td>\n",
       "      <td>0.001953</td>\n",
       "      <td>0.001500</td>\n",
       "      <td>0.001316</td>\n",
       "      <td>0.001704</td>\n",
       "      <td>0.001638</td>\n",
       "      <td>0.001608</td>\n",
       "      <td>...</td>\n",
       "      <td>0.001853</td>\n",
       "      <td>0.002341</td>\n",
       "      <td>0.002505</td>\n",
       "      <td>0.002694</td>\n",
       "      <td>0.003528</td>\n",
       "      <td>0.002348</td>\n",
       "      <td>0.002829</td>\n",
       "      <td>0.002625</td>\n",
       "      <td>0.003096</td>\n",
       "      <td>0.001711</td>\n",
       "    </tr>\n",
       "    <tr>\n",
       "      <th>3</th>\n",
       "      <td>0.003111</td>\n",
       "      <td>0.004689</td>\n",
       "      <td>0.002067</td>\n",
       "      <td>0.002174</td>\n",
       "      <td>0.001511</td>\n",
       "      <td>0.001322</td>\n",
       "      <td>0.001669</td>\n",
       "      <td>0.001973</td>\n",
       "      <td>0.001365</td>\n",
       "      <td>0.001451</td>\n",
       "      <td>...</td>\n",
       "      <td>0.001824</td>\n",
       "      <td>0.001910</td>\n",
       "      <td>0.003137</td>\n",
       "      <td>0.003335</td>\n",
       "      <td>0.002383</td>\n",
       "      <td>0.002308</td>\n",
       "      <td>0.001884</td>\n",
       "      <td>0.002777</td>\n",
       "      <td>0.002672</td>\n",
       "      <td>0.002144</td>\n",
       "    </tr>\n",
       "    <tr>\n",
       "      <th>4</th>\n",
       "      <td>0.002935</td>\n",
       "      <td>0.004328</td>\n",
       "      <td>0.001110</td>\n",
       "      <td>0.002171</td>\n",
       "      <td>0.002773</td>\n",
       "      <td>0.001418</td>\n",
       "      <td>0.001678</td>\n",
       "      <td>0.001443</td>\n",
       "      <td>0.002232</td>\n",
       "      <td>0.002341</td>\n",
       "      <td>...</td>\n",
       "      <td>0.002974</td>\n",
       "      <td>0.002385</td>\n",
       "      <td>0.002042</td>\n",
       "      <td>0.002140</td>\n",
       "      <td>0.001807</td>\n",
       "      <td>0.002348</td>\n",
       "      <td>0.002461</td>\n",
       "      <td>0.004219</td>\n",
       "      <td>0.003352</td>\n",
       "      <td>0.002057</td>\n",
       "    </tr>\n",
       "  </tbody>\n",
       "</table>\n",
       "<p>5 rows × 1230 columns</p>\n",
       "</div>"
      ],
      "text/plain": [
       "   0.000000     1.220703     2.441406     3.662109     4.882812     \\\n",
       "0     0.003016     0.003218     0.002137     0.001445     0.001919   \n",
       "1     0.002304     0.004142     0.002187     0.002218     0.002217   \n",
       "2     0.001961     0.003091     0.001870     0.002018     0.001953   \n",
       "3     0.003111     0.004689     0.002067     0.002174     0.001511   \n",
       "4     0.002935     0.004328     0.001110     0.002171     0.002773   \n",
       "\n",
       "   6.103516     7.324219     8.544922     9.765625     10.986328    ...  \\\n",
       "0     0.001701     0.001086     0.001079     0.001717     0.001692  ...   \n",
       "1     0.002621     0.001819     0.001895     0.001156     0.001503  ...   \n",
       "2     0.001500     0.001316     0.001704     0.001638     0.001608  ...   \n",
       "3     0.001322     0.001669     0.001973     0.001365     0.001451  ...   \n",
       "4     0.001418     0.001678     0.001443     0.002232     0.002341  ...   \n",
       "\n",
       "   1489.257812  1490.478516  1491.699219  1492.919922  1494.140625  \\\n",
       "0     0.002782     0.002200     0.002816     0.002101     0.002467   \n",
       "1     0.002606     0.002309     0.002504     0.003267     0.002524   \n",
       "2     0.001853     0.002341     0.002505     0.002694     0.003528   \n",
       "3     0.001824     0.001910     0.003137     0.003335     0.002383   \n",
       "4     0.002974     0.002385     0.002042     0.002140     0.001807   \n",
       "\n",
       "   1495.361328  1496.582031  1497.802734  1499.023438  1500.244141  \n",
       "0     0.003473     0.002741     0.003360     0.002223     0.002836  \n",
       "1     0.002605     0.002655     0.003054     0.003970     0.002770  \n",
       "2     0.002348     0.002829     0.002625     0.003096     0.001711  \n",
       "3     0.002308     0.001884     0.002777     0.002672     0.002144  \n",
       "4     0.002348     0.002461     0.004219     0.003352     0.002057  \n",
       "\n",
       "[5 rows x 1230 columns]"
      ]
     },
     "execution_count": 740,
     "metadata": {},
     "output_type": "execute_result"
    }
   ],
   "source": [
    "df_speck.head()"
   ]
  },
  {
   "cell_type": "code",
   "execution_count": 747,
   "metadata": {},
   "outputs": [
    {
     "data": {
      "text/plain": [
       "8727     b'|CF,2,1,1;|CK,1,3,1,1;\\r\\n|Nv,1,13,7,4,11,64...\n",
       "43711    b'|CF,2,1,1;|CK,1,3,1,1;\\r\\n|Nv,1,13,7,4,10,64...\n",
       "43712    b'|CF,2,1,1;|CK,1,3,1,1;\\r\\n|Nv,1,13,7,4,10,64...\n",
       "43713    b'|CF,2,1,1;|CK,1,3,1,1;\\r\\n|Nv,1,13,7,4,10,64...\n",
       "43714    b'|CF,2,1,1;|CK,1,3,1,1;\\r\\n|Nv,1,13,7,4,10,64...\n",
       "Name: SPEK_R1_3, dtype: object"
      ]
     },
     "execution_count": 747,
     "metadata": {},
     "output_type": "execute_result"
    }
   ],
   "source": [
    "df['SPEK_R1_3'].loc[df['SPEK_R1_3'].isna()==False].head()"
   ]
  },
  {
   "cell_type": "code",
   "execution_count": 749,
   "metadata": {},
   "outputs": [
    {
     "data": {
      "text/plain": [
       "{'SPEK_R1_3': {'delta_x': 1.220703125,\n",
       "  'trigger_time': '2020-12-07 07:57:51.8799',\n",
       "  'decode_value_y': '7',\n",
       "  'BytePerValue_value_y': '4',\n",
       "  'buffer_size_value_y': 4920,\n",
       "  'buffer_start_value_y': 0,\n",
       "  'X0': 0.0,\n",
       "  'unit_y': '',\n",
       "  'unit_y_scale-factor': 0.0,\n",
       "  'unit_y_scale-factor_Offset': 0.0,\n",
       "  'name': 'SPEK_R1_3',\n",
       "  'value_y': array([0.00838478, 0.01449084, 0.01060201, ..., 0.00078213, 0.0013749 ,\n",
       "         0.00187378], dtype=float32)}}"
      ]
     },
     "execution_count": 749,
     "metadata": {},
     "output_type": "execute_result"
    }
   ],
   "source": [
    "dat.load_channels(df['SPEK_R1_3'][8727])"
   ]
  },
  {
   "cell_type": "code",
   "execution_count": 751,
   "metadata": {},
   "outputs": [
    {
     "data": {
      "text/plain": [
       "b'|CF,2,1,1;|CK,1,3,1,1;\\r\\n|Nv,1,13,7,4,10,64,1,0;\\r\\n|NO,1,7,1,0,,0,;\\r\\n|NL,1,10,1252,0x407;\\r\\n|CI,1,39,0,8,9,SPEK_R1_3,\\x00\\x00\\x00\\x00\\x00\\x00\\x00\\x00,0,,0,,\\x00\\x00\\x80\\xd57*\\xd3A;\\r\\n'"
      ]
     },
     "execution_count": 751,
     "metadata": {},
     "output_type": "execute_result"
    }
   ],
   "source": [
    "df['SPEK_R1_3'][43714]"
   ]
  },
  {
   "cell_type": "code",
   "execution_count": 750,
   "metadata": {},
   "outputs": [
    {
     "ename": "ValueError",
     "evalue": "Block expected, no famos format",
     "output_type": "error",
     "traceback": [
      "\u001b[1;31m---------------------------------------------------------------------------\u001b[0m",
      "\u001b[1;31mValueError\u001b[0m                                Traceback (most recent call last)",
      "\u001b[1;32m<ipython-input-750-74671f502813>\u001b[0m in \u001b[0;36m<module>\u001b[1;34m\u001b[0m\n\u001b[1;32m----> 1\u001b[1;33m \u001b[0mdat\u001b[0m\u001b[1;33m.\u001b[0m\u001b[0mload_channels\u001b[0m\u001b[1;33m(\u001b[0m\u001b[0mdf\u001b[0m\u001b[1;33m[\u001b[0m\u001b[1;34m'SPEK_R1_3'\u001b[0m\u001b[1;33m]\u001b[0m\u001b[1;33m[\u001b[0m\u001b[1;36m43714\u001b[0m\u001b[1;33m]\u001b[0m\u001b[1;33m)\u001b[0m\u001b[1;33m\u001b[0m\u001b[1;33m\u001b[0m\u001b[0m\n\u001b[0m",
      "\u001b[1;32m~\\Documents\\Propulsion_Bootcamp\\process-optimization\\notebooks\\read_famos.py\u001b[0m in \u001b[0;36mload_channels\u001b[1;34m(file_or_data, filter, show_print)\u001b[0m\n\u001b[0;32m     90\u001b[0m     \u001b[0mchannel\u001b[0m \u001b[1;33m=\u001b[0m \u001b[1;32mNone\u001b[0m\u001b[1;33m\u001b[0m\u001b[1;33m\u001b[0m\u001b[0m\n\u001b[0;32m     91\u001b[0m     \u001b[0mcount\u001b[0m \u001b[1;33m=\u001b[0m \u001b[1;33m-\u001b[0m\u001b[1;36m1\u001b[0m\u001b[1;33m\u001b[0m\u001b[1;33m\u001b[0m\u001b[0m\n\u001b[1;32m---> 92\u001b[1;33m     \u001b[1;32mfor\u001b[0m \u001b[0mtyp\u001b[0m\u001b[1;33m,\u001b[0m \u001b[0mnum\u001b[0m\u001b[1;33m,\u001b[0m \u001b[0mblock\u001b[0m\u001b[1;33m,\u001b[0m \u001b[0mblockValue\u001b[0m \u001b[1;32min\u001b[0m \u001b[0m_iter_blocks\u001b[0m\u001b[1;33m(\u001b[0m\u001b[0mdata\u001b[0m\u001b[1;33m)\u001b[0m\u001b[1;33m:\u001b[0m\u001b[1;33m\u001b[0m\u001b[1;33m\u001b[0m\u001b[0m\n\u001b[0m\u001b[0;32m     93\u001b[0m         \u001b[1;31m# save information of channel which is for all the same (until******)\u001b[0m\u001b[1;33m\u001b[0m\u001b[1;33m\u001b[0m\u001b[1;33m\u001b[0m\u001b[0m\n\u001b[0;32m     94\u001b[0m         \u001b[1;32mif\u001b[0m \u001b[0mtyp\u001b[0m \u001b[1;33m==\u001b[0m \u001b[1;34mb\"CF\"\u001b[0m\u001b[1;33m:\u001b[0m\u001b[1;33m\u001b[0m\u001b[1;33m\u001b[0m\u001b[0m\n",
      "\u001b[1;32m~\\Documents\\Propulsion_Bootcamp\\process-optimization\\notebooks\\read_famos.py\u001b[0m in \u001b[0;36m_iter_blocks\u001b[1;34m(data)\u001b[0m\n\u001b[0;32m     60\u001b[0m             \u001b[0mentry\u001b[0m \u001b[1;33m=\u001b[0m \u001b[0mre_block\u001b[0m\u001b[1;33m.\u001b[0m\u001b[0mmatch\u001b[0m\u001b[1;33m(\u001b[0m\u001b[0mdata\u001b[0m\u001b[1;33m,\u001b[0m \u001b[0mstart\u001b[0m \u001b[1;33m+\u001b[0m \u001b[1;36m3\u001b[0m\u001b[1;33m)\u001b[0m\u001b[1;33m\u001b[0m\u001b[1;33m\u001b[0m\u001b[0m\n\u001b[0;32m     61\u001b[0m             \u001b[1;32mif\u001b[0m \u001b[0mentry\u001b[0m \u001b[1;32mis\u001b[0m \u001b[1;32mNone\u001b[0m\u001b[1;33m:\u001b[0m\u001b[1;33m\u001b[0m\u001b[1;33m\u001b[0m\u001b[0m\n\u001b[1;32m---> 62\u001b[1;33m                 \u001b[1;32mraise\u001b[0m \u001b[0mValueError\u001b[0m\u001b[1;33m(\u001b[0m\u001b[1;34m\"Block expected, no famos format\"\u001b[0m\u001b[1;33m)\u001b[0m\u001b[1;33m\u001b[0m\u001b[1;33m\u001b[0m\u001b[0m\n\u001b[0m\u001b[0;32m     63\u001b[0m             \u001b[1;32melse\u001b[0m\u001b[1;33m:\u001b[0m\u001b[1;33m\u001b[0m\u001b[1;33m\u001b[0m\u001b[0m\n\u001b[0;32m     64\u001b[0m                 \u001b[0mstart\u001b[0m \u001b[1;33m+=\u001b[0m \u001b[1;36m3\u001b[0m\u001b[1;33m\u001b[0m\u001b[1;33m\u001b[0m\u001b[0m\n",
      "\u001b[1;31mValueError\u001b[0m: Block expected, no famos format"
     ]
    }
   ],
   "source": [
    "dat.load_channels(df['SPEK_R1_3'][43714])"
   ]
  },
  {
   "cell_type": "code",
   "execution_count": 752,
   "metadata": {},
   "outputs": [
    {
     "data": {
      "text/plain": [
       "113030    b'|CF,2,1,1;|CK,1,3,1,1;\\r\\n|Nv,1,13,7,4,11,64...\n",
       "113031    b'|CF,2,1,1;|CK,1,3,1,1;\\r\\n|Nv,1,13,7,4,11,64...\n",
       "113032    b'|CF,2,1,1;|CK,1,3,1,1;\\r\\n|Nv,1,13,7,4,11,64...\n",
       "113033    b'|CF,2,1,1;|CK,1,3,1,1;\\r\\n|Nv,1,13,7,4,11,64...\n",
       "113034    b'|CF,2,1,1;|CK,1,3,1,1;\\r\\n|Nv,1,13,7,4,11,64...\n",
       "Name: SPEK_R1_3, dtype: object"
      ]
     },
     "execution_count": 752,
     "metadata": {},
     "output_type": "execute_result"
    }
   ],
   "source": [
    "df['SPEK_R1_3'].loc[df['SPEK_R1_3'].isna()==False].tail()"
   ]
  },
  {
   "cell_type": "code",
   "execution_count": 753,
   "metadata": {},
   "outputs": [
    {
     "ename": "ValueError",
     "evalue": "Block expected, no famos format",
     "output_type": "error",
     "traceback": [
      "\u001b[1;31m---------------------------------------------------------------------------\u001b[0m",
      "\u001b[1;31mValueError\u001b[0m                                Traceback (most recent call last)",
      "\u001b[1;32m<ipython-input-753-fbe3228ffa61>\u001b[0m in \u001b[0;36m<module>\u001b[1;34m\u001b[0m\n\u001b[1;32m----> 1\u001b[1;33m \u001b[0mdat\u001b[0m\u001b[1;33m.\u001b[0m\u001b[0mload_channels\u001b[0m\u001b[1;33m(\u001b[0m\u001b[0mdf\u001b[0m\u001b[1;33m[\u001b[0m\u001b[1;34m'SPEK_R1_3'\u001b[0m\u001b[1;33m]\u001b[0m\u001b[1;33m[\u001b[0m\u001b[1;36m113034\u001b[0m\u001b[1;33m]\u001b[0m\u001b[1;33m)\u001b[0m\u001b[1;33m\u001b[0m\u001b[1;33m\u001b[0m\u001b[0m\n\u001b[0m",
      "\u001b[1;32m~\\Documents\\Propulsion_Bootcamp\\process-optimization\\notebooks\\read_famos.py\u001b[0m in \u001b[0;36mload_channels\u001b[1;34m(file_or_data, filter, show_print)\u001b[0m\n\u001b[0;32m     90\u001b[0m     \u001b[0mchannel\u001b[0m \u001b[1;33m=\u001b[0m \u001b[1;32mNone\u001b[0m\u001b[1;33m\u001b[0m\u001b[1;33m\u001b[0m\u001b[0m\n\u001b[0;32m     91\u001b[0m     \u001b[0mcount\u001b[0m \u001b[1;33m=\u001b[0m \u001b[1;33m-\u001b[0m\u001b[1;36m1\u001b[0m\u001b[1;33m\u001b[0m\u001b[1;33m\u001b[0m\u001b[0m\n\u001b[1;32m---> 92\u001b[1;33m     \u001b[1;32mfor\u001b[0m \u001b[0mtyp\u001b[0m\u001b[1;33m,\u001b[0m \u001b[0mnum\u001b[0m\u001b[1;33m,\u001b[0m \u001b[0mblock\u001b[0m\u001b[1;33m,\u001b[0m \u001b[0mblockValue\u001b[0m \u001b[1;32min\u001b[0m \u001b[0m_iter_blocks\u001b[0m\u001b[1;33m(\u001b[0m\u001b[0mdata\u001b[0m\u001b[1;33m)\u001b[0m\u001b[1;33m:\u001b[0m\u001b[1;33m\u001b[0m\u001b[1;33m\u001b[0m\u001b[0m\n\u001b[0m\u001b[0;32m     93\u001b[0m         \u001b[1;31m# save information of channel which is for all the same (until******)\u001b[0m\u001b[1;33m\u001b[0m\u001b[1;33m\u001b[0m\u001b[1;33m\u001b[0m\u001b[0m\n\u001b[0;32m     94\u001b[0m         \u001b[1;32mif\u001b[0m \u001b[0mtyp\u001b[0m \u001b[1;33m==\u001b[0m \u001b[1;34mb\"CF\"\u001b[0m\u001b[1;33m:\u001b[0m\u001b[1;33m\u001b[0m\u001b[1;33m\u001b[0m\u001b[0m\n",
      "\u001b[1;32m~\\Documents\\Propulsion_Bootcamp\\process-optimization\\notebooks\\read_famos.py\u001b[0m in \u001b[0;36m_iter_blocks\u001b[1;34m(data)\u001b[0m\n\u001b[0;32m     60\u001b[0m             \u001b[0mentry\u001b[0m \u001b[1;33m=\u001b[0m \u001b[0mre_block\u001b[0m\u001b[1;33m.\u001b[0m\u001b[0mmatch\u001b[0m\u001b[1;33m(\u001b[0m\u001b[0mdata\u001b[0m\u001b[1;33m,\u001b[0m \u001b[0mstart\u001b[0m \u001b[1;33m+\u001b[0m \u001b[1;36m3\u001b[0m\u001b[1;33m)\u001b[0m\u001b[1;33m\u001b[0m\u001b[1;33m\u001b[0m\u001b[0m\n\u001b[0;32m     61\u001b[0m             \u001b[1;32mif\u001b[0m \u001b[0mentry\u001b[0m \u001b[1;32mis\u001b[0m \u001b[1;32mNone\u001b[0m\u001b[1;33m:\u001b[0m\u001b[1;33m\u001b[0m\u001b[1;33m\u001b[0m\u001b[0m\n\u001b[1;32m---> 62\u001b[1;33m                 \u001b[1;32mraise\u001b[0m \u001b[0mValueError\u001b[0m\u001b[1;33m(\u001b[0m\u001b[1;34m\"Block expected, no famos format\"\u001b[0m\u001b[1;33m)\u001b[0m\u001b[1;33m\u001b[0m\u001b[1;33m\u001b[0m\u001b[0m\n\u001b[0m\u001b[0;32m     63\u001b[0m             \u001b[1;32melse\u001b[0m\u001b[1;33m:\u001b[0m\u001b[1;33m\u001b[0m\u001b[1;33m\u001b[0m\u001b[0m\n\u001b[0;32m     64\u001b[0m                 \u001b[0mstart\u001b[0m \u001b[1;33m+=\u001b[0m \u001b[1;36m3\u001b[0m\u001b[1;33m\u001b[0m\u001b[1;33m\u001b[0m\u001b[0m\n",
      "\u001b[1;31mValueError\u001b[0m: Block expected, no famos format"
     ]
    }
   ],
   "source": [
    "dat.load_channels(df['SPEK_R1_3'][113034])"
   ]
  },
  {
   "cell_type": "code",
   "execution_count": 754,
   "metadata": {},
   "outputs": [],
   "source": [
    "SPEK_LP = pd.read_csv('../data/processed/spectral_data/MA_NR-78635_SPEK_LP.csv')"
   ]
  },
  {
   "cell_type": "code",
   "execution_count": 755,
   "metadata": {},
   "outputs": [
    {
     "data": {
      "text/plain": [
       "(113035, 513)"
      ]
     },
     "execution_count": 755,
     "metadata": {},
     "output_type": "execute_result"
    }
   ],
   "source": [
    "SPEK_LP.shape"
   ]
  },
  {
   "cell_type": "code",
   "execution_count": 756,
   "metadata": {},
   "outputs": [
    {
     "data": {
      "text/html": [
       "<div>\n",
       "<style scoped>\n",
       "    .dataframe tbody tr th:only-of-type {\n",
       "        vertical-align: middle;\n",
       "    }\n",
       "\n",
       "    .dataframe tbody tr th {\n",
       "        vertical-align: top;\n",
       "    }\n",
       "\n",
       "    .dataframe thead th {\n",
       "        text-align: right;\n",
       "    }\n",
       "</style>\n",
       "<table border=\"1\" class=\"dataframe\">\n",
       "  <thead>\n",
       "    <tr style=\"text-align: right;\">\n",
       "      <th></th>\n",
       "      <th>0.0</th>\n",
       "      <th>0.9765625</th>\n",
       "      <th>1.953125</th>\n",
       "      <th>2.9296875</th>\n",
       "      <th>3.90625</th>\n",
       "      <th>4.8828125</th>\n",
       "      <th>5.859375</th>\n",
       "      <th>6.8359375</th>\n",
       "      <th>7.8125</th>\n",
       "      <th>8.7890625</th>\n",
       "      <th>...</th>\n",
       "      <th>491.2109375</th>\n",
       "      <th>492.1875</th>\n",
       "      <th>493.1640625</th>\n",
       "      <th>494.140625</th>\n",
       "      <th>495.1171875</th>\n",
       "      <th>496.09375</th>\n",
       "      <th>497.0703125</th>\n",
       "      <th>498.046875</th>\n",
       "      <th>499.0234375</th>\n",
       "      <th>500.0</th>\n",
       "    </tr>\n",
       "  </thead>\n",
       "  <tbody>\n",
       "    <tr>\n",
       "      <th>0</th>\n",
       "      <td>0.097836</td>\n",
       "      <td>0.098067</td>\n",
       "      <td>0.107619</td>\n",
       "      <td>0.075665</td>\n",
       "      <td>0.123915</td>\n",
       "      <td>0.102651</td>\n",
       "      <td>0.108217</td>\n",
       "      <td>0.082201</td>\n",
       "      <td>0.039824</td>\n",
       "      <td>0.091453</td>\n",
       "      <td>...</td>\n",
       "      <td>NaN</td>\n",
       "      <td>NaN</td>\n",
       "      <td>NaN</td>\n",
       "      <td>NaN</td>\n",
       "      <td>NaN</td>\n",
       "      <td>NaN</td>\n",
       "      <td>NaN</td>\n",
       "      <td>NaN</td>\n",
       "      <td>NaN</td>\n",
       "      <td>NaN</td>\n",
       "    </tr>\n",
       "    <tr>\n",
       "      <th>1</th>\n",
       "      <td>0.102464</td>\n",
       "      <td>0.102132</td>\n",
       "      <td>0.066351</td>\n",
       "      <td>0.061782</td>\n",
       "      <td>0.110933</td>\n",
       "      <td>0.120208</td>\n",
       "      <td>0.040804</td>\n",
       "      <td>0.043677</td>\n",
       "      <td>0.092120</td>\n",
       "      <td>0.066657</td>\n",
       "      <td>...</td>\n",
       "      <td>NaN</td>\n",
       "      <td>NaN</td>\n",
       "      <td>NaN</td>\n",
       "      <td>NaN</td>\n",
       "      <td>NaN</td>\n",
       "      <td>NaN</td>\n",
       "      <td>NaN</td>\n",
       "      <td>NaN</td>\n",
       "      <td>NaN</td>\n",
       "      <td>NaN</td>\n",
       "    </tr>\n",
       "    <tr>\n",
       "      <th>2</th>\n",
       "      <td>0.112794</td>\n",
       "      <td>0.135552</td>\n",
       "      <td>0.057098</td>\n",
       "      <td>0.067506</td>\n",
       "      <td>0.122950</td>\n",
       "      <td>0.084439</td>\n",
       "      <td>0.091765</td>\n",
       "      <td>0.046031</td>\n",
       "      <td>0.101176</td>\n",
       "      <td>0.196271</td>\n",
       "      <td>...</td>\n",
       "      <td>NaN</td>\n",
       "      <td>NaN</td>\n",
       "      <td>NaN</td>\n",
       "      <td>NaN</td>\n",
       "      <td>NaN</td>\n",
       "      <td>NaN</td>\n",
       "      <td>NaN</td>\n",
       "      <td>NaN</td>\n",
       "      <td>NaN</td>\n",
       "      <td>NaN</td>\n",
       "    </tr>\n",
       "    <tr>\n",
       "      <th>3</th>\n",
       "      <td>0.109651</td>\n",
       "      <td>0.132248</td>\n",
       "      <td>0.083148</td>\n",
       "      <td>0.083044</td>\n",
       "      <td>0.115024</td>\n",
       "      <td>0.092542</td>\n",
       "      <td>0.059611</td>\n",
       "      <td>0.089226</td>\n",
       "      <td>0.118592</td>\n",
       "      <td>0.093869</td>\n",
       "      <td>...</td>\n",
       "      <td>NaN</td>\n",
       "      <td>NaN</td>\n",
       "      <td>NaN</td>\n",
       "      <td>NaN</td>\n",
       "      <td>NaN</td>\n",
       "      <td>NaN</td>\n",
       "      <td>NaN</td>\n",
       "      <td>NaN</td>\n",
       "      <td>NaN</td>\n",
       "      <td>NaN</td>\n",
       "    </tr>\n",
       "    <tr>\n",
       "      <th>4</th>\n",
       "      <td>0.105222</td>\n",
       "      <td>0.103340</td>\n",
       "      <td>0.040659</td>\n",
       "      <td>0.056178</td>\n",
       "      <td>0.158976</td>\n",
       "      <td>0.151782</td>\n",
       "      <td>0.050422</td>\n",
       "      <td>0.052808</td>\n",
       "      <td>0.059979</td>\n",
       "      <td>0.112698</td>\n",
       "      <td>...</td>\n",
       "      <td>NaN</td>\n",
       "      <td>NaN</td>\n",
       "      <td>NaN</td>\n",
       "      <td>NaN</td>\n",
       "      <td>NaN</td>\n",
       "      <td>NaN</td>\n",
       "      <td>NaN</td>\n",
       "      <td>NaN</td>\n",
       "      <td>NaN</td>\n",
       "      <td>NaN</td>\n",
       "    </tr>\n",
       "  </tbody>\n",
       "</table>\n",
       "<p>5 rows × 513 columns</p>\n",
       "</div>"
      ],
      "text/plain": [
       "        0.0  0.9765625  1.953125  2.9296875   3.90625  4.8828125  5.859375  \\\n",
       "0  0.097836   0.098067  0.107619   0.075665  0.123915   0.102651  0.108217   \n",
       "1  0.102464   0.102132  0.066351   0.061782  0.110933   0.120208  0.040804   \n",
       "2  0.112794   0.135552  0.057098   0.067506  0.122950   0.084439  0.091765   \n",
       "3  0.109651   0.132248  0.083148   0.083044  0.115024   0.092542  0.059611   \n",
       "4  0.105222   0.103340  0.040659   0.056178  0.158976   0.151782  0.050422   \n",
       "\n",
       "   6.8359375    7.8125  8.7890625  ...  491.2109375  492.1875  493.1640625  \\\n",
       "0   0.082201  0.039824   0.091453  ...          NaN       NaN          NaN   \n",
       "1   0.043677  0.092120   0.066657  ...          NaN       NaN          NaN   \n",
       "2   0.046031  0.101176   0.196271  ...          NaN       NaN          NaN   \n",
       "3   0.089226  0.118592   0.093869  ...          NaN       NaN          NaN   \n",
       "4   0.052808  0.059979   0.112698  ...          NaN       NaN          NaN   \n",
       "\n",
       "   494.140625  495.1171875  496.09375  497.0703125  498.046875  499.0234375  \\\n",
       "0         NaN          NaN        NaN          NaN         NaN          NaN   \n",
       "1         NaN          NaN        NaN          NaN         NaN          NaN   \n",
       "2         NaN          NaN        NaN          NaN         NaN          NaN   \n",
       "3         NaN          NaN        NaN          NaN         NaN          NaN   \n",
       "4         NaN          NaN        NaN          NaN         NaN          NaN   \n",
       "\n",
       "   500.0  \n",
       "0    NaN  \n",
       "1    NaN  \n",
       "2    NaN  \n",
       "3    NaN  \n",
       "4    NaN  \n",
       "\n",
       "[5 rows x 513 columns]"
      ]
     },
     "execution_count": 756,
     "metadata": {},
     "output_type": "execute_result"
    }
   ],
   "source": [
    "SPEK_LP.head()"
   ]
  },
  {
   "cell_type": "code",
   "execution_count": 757,
   "metadata": {},
   "outputs": [
    {
     "data": {
      "text/plain": [
       "0.0                0\n",
       "0.9765625          0\n",
       "1.953125           0\n",
       "2.9296875          0\n",
       "3.90625            0\n",
       "               ...  \n",
       "496.09375      48473\n",
       "497.0703125    48473\n",
       "498.046875     48473\n",
       "499.0234375    48473\n",
       "500.0          48473\n",
       "Length: 513, dtype: int64"
      ]
     },
     "execution_count": 757,
     "metadata": {},
     "output_type": "execute_result"
    }
   ],
   "source": [
    "SPEK_LP.isna().sum()"
   ]
  },
  {
   "cell_type": "code",
   "execution_count": 767,
   "metadata": {},
   "outputs": [
    {
     "data": {
      "text/plain": [
       "0.0            0.109651\n",
       "0.9765625      0.132248\n",
       "1.953125       0.083148\n",
       "2.9296875      0.083044\n",
       "3.90625        0.115024\n",
       "                 ...   \n",
       "496.09375           NaN\n",
       "497.0703125         NaN\n",
       "498.046875          NaN\n",
       "499.0234375         NaN\n",
       "500.0               NaN\n",
       "Name: 3, Length: 513, dtype: float64"
      ]
     },
     "execution_count": 767,
     "metadata": {},
     "output_type": "execute_result"
    }
   ],
   "source": [
    "SPEK_LP.loc[3,:]"
   ]
  },
  {
   "cell_type": "code",
   "execution_count": 771,
   "metadata": {},
   "outputs": [],
   "source": [
    "ids = df[['PRIMARY', 'MA_NR', 'WSG_ID', 'WZD_ID', 'ST_ID', 'AT_ID']]"
   ]
  },
  {
   "cell_type": "code",
   "execution_count": 772,
   "metadata": {},
   "outputs": [
    {
     "data": {
      "text/html": [
       "<div>\n",
       "<style scoped>\n",
       "    .dataframe tbody tr th:only-of-type {\n",
       "        vertical-align: middle;\n",
       "    }\n",
       "\n",
       "    .dataframe tbody tr th {\n",
       "        vertical-align: top;\n",
       "    }\n",
       "\n",
       "    .dataframe thead th {\n",
       "        text-align: right;\n",
       "    }\n",
       "</style>\n",
       "<table border=\"1\" class=\"dataframe\">\n",
       "  <thead>\n",
       "    <tr style=\"text-align: right;\">\n",
       "      <th></th>\n",
       "      <th>PRIMARY</th>\n",
       "      <th>MA_NR</th>\n",
       "      <th>WSG_ID</th>\n",
       "      <th>WZD_ID</th>\n",
       "      <th>ST_ID</th>\n",
       "      <th>AT_ID</th>\n",
       "    </tr>\n",
       "  </thead>\n",
       "  <tbody>\n",
       "    <tr>\n",
       "      <th>0</th>\n",
       "      <td>4404801</td>\n",
       "      <td>78635</td>\n",
       "      <td>15</td>\n",
       "      <td>10027</td>\n",
       "      <td>20371</td>\n",
       "      <td>10082</td>\n",
       "    </tr>\n",
       "    <tr>\n",
       "      <th>1</th>\n",
       "      <td>4404800</td>\n",
       "      <td>78635</td>\n",
       "      <td>15</td>\n",
       "      <td>10027</td>\n",
       "      <td>20371</td>\n",
       "      <td>10082</td>\n",
       "    </tr>\n",
       "    <tr>\n",
       "      <th>2</th>\n",
       "      <td>4404824</td>\n",
       "      <td>78635</td>\n",
       "      <td>15</td>\n",
       "      <td>10027</td>\n",
       "      <td>20371</td>\n",
       "      <td>10082</td>\n",
       "    </tr>\n",
       "    <tr>\n",
       "      <th>3</th>\n",
       "      <td>4404823</td>\n",
       "      <td>78635</td>\n",
       "      <td>15</td>\n",
       "      <td>10027</td>\n",
       "      <td>20371</td>\n",
       "      <td>10082</td>\n",
       "    </tr>\n",
       "    <tr>\n",
       "      <th>4</th>\n",
       "      <td>4404822</td>\n",
       "      <td>78635</td>\n",
       "      <td>15</td>\n",
       "      <td>10027</td>\n",
       "      <td>20371</td>\n",
       "      <td>10082</td>\n",
       "    </tr>\n",
       "    <tr>\n",
       "      <th>...</th>\n",
       "      <td>...</td>\n",
       "      <td>...</td>\n",
       "      <td>...</td>\n",
       "      <td>...</td>\n",
       "      <td>...</td>\n",
       "      <td>...</td>\n",
       "    </tr>\n",
       "    <tr>\n",
       "      <th>113030</th>\n",
       "      <td>4259473</td>\n",
       "      <td>78635</td>\n",
       "      <td>14</td>\n",
       "      <td>22</td>\n",
       "      <td>20365</td>\n",
       "      <td>80</td>\n",
       "    </tr>\n",
       "    <tr>\n",
       "      <th>113031</th>\n",
       "      <td>4259474</td>\n",
       "      <td>78635</td>\n",
       "      <td>14</td>\n",
       "      <td>22</td>\n",
       "      <td>20365</td>\n",
       "      <td>80</td>\n",
       "    </tr>\n",
       "    <tr>\n",
       "      <th>113032</th>\n",
       "      <td>4259475</td>\n",
       "      <td>78635</td>\n",
       "      <td>14</td>\n",
       "      <td>22</td>\n",
       "      <td>20365</td>\n",
       "      <td>80</td>\n",
       "    </tr>\n",
       "    <tr>\n",
       "      <th>113033</th>\n",
       "      <td>4259484</td>\n",
       "      <td>78635</td>\n",
       "      <td>14</td>\n",
       "      <td>22</td>\n",
       "      <td>20365</td>\n",
       "      <td>80</td>\n",
       "    </tr>\n",
       "    <tr>\n",
       "      <th>113034</th>\n",
       "      <td>4259468</td>\n",
       "      <td>78635</td>\n",
       "      <td>14</td>\n",
       "      <td>22</td>\n",
       "      <td>20365</td>\n",
       "      <td>80</td>\n",
       "    </tr>\n",
       "  </tbody>\n",
       "</table>\n",
       "<p>113035 rows × 6 columns</p>\n",
       "</div>"
      ],
      "text/plain": [
       "        PRIMARY  MA_NR  WSG_ID  WZD_ID  ST_ID  AT_ID\n",
       "0       4404801  78635      15   10027  20371  10082\n",
       "1       4404800  78635      15   10027  20371  10082\n",
       "2       4404824  78635      15   10027  20371  10082\n",
       "3       4404823  78635      15   10027  20371  10082\n",
       "4       4404822  78635      15   10027  20371  10082\n",
       "...         ...    ...     ...     ...    ...    ...\n",
       "113030  4259473  78635      14      22  20365     80\n",
       "113031  4259474  78635      14      22  20365     80\n",
       "113032  4259475  78635      14      22  20365     80\n",
       "113033  4259484  78635      14      22  20365     80\n",
       "113034  4259468  78635      14      22  20365     80\n",
       "\n",
       "[113035 rows x 6 columns]"
      ]
     },
     "execution_count": 772,
     "metadata": {},
     "output_type": "execute_result"
    }
   ],
   "source": []
  },
  {
   "cell_type": "code",
   "execution_count": 779,
   "metadata": {},
   "outputs": [],
   "source": [
    "import os\n",
    "files = os.listdir('../data/processed/spectral_data')"
   ]
  },
  {
   "cell_type": "code",
   "execution_count": 781,
   "metadata": {},
   "outputs": [],
   "source": [
    "files = files[1:]"
   ]
  },
  {
   "cell_type": "code",
   "execution_count": 782,
   "metadata": {},
   "outputs": [
    {
     "data": {
      "text/plain": [
       "['MA_NR-78635_SPEK_L1.csv',\n",
       " 'MA_NR-78635_SPEK_L2.csv',\n",
       " 'MA_NR-78635_SPEK_L3.csv',\n",
       " 'MA_NR-78635_SPEK_LP.csv',\n",
       " 'MA_NR-78635_SPEK_R1_1.csv',\n",
       " 'MA_NR-78635_SPEK_R1_2.csv',\n",
       " 'MA_NR-78635_SPEK_R1_3.csv',\n",
       " 'MA_NR-78635_SPEK_R1_4.csv',\n",
       " 'MA_NR-78635_SPEK_R1_5.csv',\n",
       " 'MA_NR-78635_SPEK_R1_6.csv',\n",
       " 'MA_NR-78635_SPEK_R2_1.csv',\n",
       " 'MA_NR-78635_SPEK_R2_2.csv',\n",
       " 'MA_NR-78635_SPEK_R2_3.csv',\n",
       " 'MA_NR-78635_SPEK_R2_4.csv',\n",
       " 'MA_NR-78635_SPEK_R2_5.csv',\n",
       " 'MA_NR-78635_SPEK_R2_6.csv',\n",
       " 'MA_NR-78635_SPEK_R3_1.csv',\n",
       " 'MA_NR-78635_SPEK_R3_2.csv',\n",
       " 'MA_NR-78635_SPEK_R3_3.csv',\n",
       " 'MA_NR-78635_SPEK_R3_4.csv',\n",
       " 'MA_NR-78635_SPEK_R3_5.csv',\n",
       " 'MA_NR-78635_SPEK_R3_6.csv',\n",
       " 'MA_NR-78635_SPEK_RP_1.csv',\n",
       " 'MA_NR-78635_SPEK_RP_2.csv',\n",
       " 'MA_NR-78635_SPEK_RP_3.csv',\n",
       " 'MA_NR-78635_SPEK_RP_4.csv',\n",
       " 'MA_NR-78635_SPEK_RP_5.csv',\n",
       " 'MA_NR-78635_SPEK_RP_6.csv']"
      ]
     },
     "execution_count": 782,
     "metadata": {},
     "output_type": "execute_result"
    }
   ],
   "source": [
    "files"
   ]
  },
  {
   "cell_type": "code",
   "execution_count": 784,
   "metadata": {},
   "outputs": [],
   "source": [
    "temp_df = pd.read_csv('../data/processed/spectral_data/MA_NR-78635_SPEK_L1.csv')"
   ]
  },
  {
   "cell_type": "code",
   "execution_count": 785,
   "metadata": {},
   "outputs": [
    {
     "data": {
      "text/html": [
       "<div>\n",
       "<style scoped>\n",
       "    .dataframe tbody tr th:only-of-type {\n",
       "        vertical-align: middle;\n",
       "    }\n",
       "\n",
       "    .dataframe tbody tr th {\n",
       "        vertical-align: top;\n",
       "    }\n",
       "\n",
       "    .dataframe thead th {\n",
       "        text-align: right;\n",
       "    }\n",
       "</style>\n",
       "<table border=\"1\" class=\"dataframe\">\n",
       "  <thead>\n",
       "    <tr style=\"text-align: right;\">\n",
       "      <th></th>\n",
       "      <th>0.0</th>\n",
       "      <th>1.220703125</th>\n",
       "      <th>2.44140625</th>\n",
       "      <th>3.662109375</th>\n",
       "      <th>4.8828125</th>\n",
       "      <th>6.103515625</th>\n",
       "      <th>7.32421875</th>\n",
       "      <th>8.544921875</th>\n",
       "      <th>9.765625</th>\n",
       "      <th>10.986328125</th>\n",
       "      <th>...</th>\n",
       "      <th>1489.2578125</th>\n",
       "      <th>1490.478515625</th>\n",
       "      <th>1491.69921875</th>\n",
       "      <th>1492.919921875</th>\n",
       "      <th>1494.140625</th>\n",
       "      <th>1495.361328125</th>\n",
       "      <th>1496.58203125</th>\n",
       "      <th>1497.802734375</th>\n",
       "      <th>1499.0234375</th>\n",
       "      <th>1500.244140625</th>\n",
       "    </tr>\n",
       "  </thead>\n",
       "  <tbody>\n",
       "    <tr>\n",
       "      <th>0</th>\n",
       "      <td>0.004278</td>\n",
       "      <td>0.009542</td>\n",
       "      <td>0.008979</td>\n",
       "      <td>0.006578</td>\n",
       "      <td>0.007937</td>\n",
       "      <td>0.008791</td>\n",
       "      <td>0.005969</td>\n",
       "      <td>0.008531</td>\n",
       "      <td>0.008269</td>\n",
       "      <td>0.007780</td>\n",
       "      <td>...</td>\n",
       "      <td>0.001142</td>\n",
       "      <td>0.001267</td>\n",
       "      <td>0.001123</td>\n",
       "      <td>0.000849</td>\n",
       "      <td>0.000597</td>\n",
       "      <td>0.000816</td>\n",
       "      <td>0.000832</td>\n",
       "      <td>0.000612</td>\n",
       "      <td>0.001274</td>\n",
       "      <td>0.001770</td>\n",
       "    </tr>\n",
       "    <tr>\n",
       "      <th>1</th>\n",
       "      <td>0.003139</td>\n",
       "      <td>0.010940</td>\n",
       "      <td>0.011171</td>\n",
       "      <td>0.010567</td>\n",
       "      <td>0.012714</td>\n",
       "      <td>0.008783</td>\n",
       "      <td>0.006660</td>\n",
       "      <td>0.007596</td>\n",
       "      <td>0.009492</td>\n",
       "      <td>0.013701</td>\n",
       "      <td>...</td>\n",
       "      <td>0.000845</td>\n",
       "      <td>0.000964</td>\n",
       "      <td>0.001504</td>\n",
       "      <td>0.001450</td>\n",
       "      <td>0.000977</td>\n",
       "      <td>0.000972</td>\n",
       "      <td>0.001042</td>\n",
       "      <td>0.000604</td>\n",
       "      <td>0.001215</td>\n",
       "      <td>0.001404</td>\n",
       "    </tr>\n",
       "    <tr>\n",
       "      <th>2</th>\n",
       "      <td>0.011586</td>\n",
       "      <td>0.019136</td>\n",
       "      <td>0.014117</td>\n",
       "      <td>0.006791</td>\n",
       "      <td>0.008938</td>\n",
       "      <td>0.008643</td>\n",
       "      <td>0.007726</td>\n",
       "      <td>0.005628</td>\n",
       "      <td>0.005584</td>\n",
       "      <td>0.008942</td>\n",
       "      <td>...</td>\n",
       "      <td>0.001136</td>\n",
       "      <td>0.001232</td>\n",
       "      <td>0.001165</td>\n",
       "      <td>0.000706</td>\n",
       "      <td>0.001088</td>\n",
       "      <td>0.001025</td>\n",
       "      <td>0.000909</td>\n",
       "      <td>0.000727</td>\n",
       "      <td>0.001263</td>\n",
       "      <td>0.001291</td>\n",
       "    </tr>\n",
       "    <tr>\n",
       "      <th>3</th>\n",
       "      <td>0.009273</td>\n",
       "      <td>0.017790</td>\n",
       "      <td>0.013132</td>\n",
       "      <td>0.007374</td>\n",
       "      <td>0.011082</td>\n",
       "      <td>0.008738</td>\n",
       "      <td>0.007378</td>\n",
       "      <td>0.008716</td>\n",
       "      <td>0.006782</td>\n",
       "      <td>0.009098</td>\n",
       "      <td>...</td>\n",
       "      <td>0.001042</td>\n",
       "      <td>0.000837</td>\n",
       "      <td>0.000757</td>\n",
       "      <td>0.000558</td>\n",
       "      <td>0.000884</td>\n",
       "      <td>0.001010</td>\n",
       "      <td>0.001561</td>\n",
       "      <td>0.001007</td>\n",
       "      <td>0.001087</td>\n",
       "      <td>0.001439</td>\n",
       "    </tr>\n",
       "    <tr>\n",
       "      <th>4</th>\n",
       "      <td>0.003870</td>\n",
       "      <td>0.014050</td>\n",
       "      <td>0.013681</td>\n",
       "      <td>0.009128</td>\n",
       "      <td>0.007786</td>\n",
       "      <td>0.006690</td>\n",
       "      <td>0.005286</td>\n",
       "      <td>0.008922</td>\n",
       "      <td>0.007155</td>\n",
       "      <td>0.008365</td>\n",
       "      <td>...</td>\n",
       "      <td>0.001080</td>\n",
       "      <td>0.000522</td>\n",
       "      <td>0.000858</td>\n",
       "      <td>0.000742</td>\n",
       "      <td>0.001047</td>\n",
       "      <td>0.000857</td>\n",
       "      <td>0.000864</td>\n",
       "      <td>0.000797</td>\n",
       "      <td>0.001385</td>\n",
       "      <td>0.001713</td>\n",
       "    </tr>\n",
       "  </tbody>\n",
       "</table>\n",
       "<p>5 rows × 1230 columns</p>\n",
       "</div>"
      ],
      "text/plain": [
       "        0.0  1.220703125  2.44140625  3.662109375  4.8828125  6.103515625  \\\n",
       "0  0.004278     0.009542    0.008979     0.006578   0.007937     0.008791   \n",
       "1  0.003139     0.010940    0.011171     0.010567   0.012714     0.008783   \n",
       "2  0.011586     0.019136    0.014117     0.006791   0.008938     0.008643   \n",
       "3  0.009273     0.017790    0.013132     0.007374   0.011082     0.008738   \n",
       "4  0.003870     0.014050    0.013681     0.009128   0.007786     0.006690   \n",
       "\n",
       "   7.32421875  8.544921875  9.765625  10.986328125  ...  1489.2578125  \\\n",
       "0    0.005969     0.008531  0.008269      0.007780  ...      0.001142   \n",
       "1    0.006660     0.007596  0.009492      0.013701  ...      0.000845   \n",
       "2    0.007726     0.005628  0.005584      0.008942  ...      0.001136   \n",
       "3    0.007378     0.008716  0.006782      0.009098  ...      0.001042   \n",
       "4    0.005286     0.008922  0.007155      0.008365  ...      0.001080   \n",
       "\n",
       "   1490.478515625  1491.69921875  1492.919921875  1494.140625  1495.361328125  \\\n",
       "0        0.001267       0.001123        0.000849     0.000597        0.000816   \n",
       "1        0.000964       0.001504        0.001450     0.000977        0.000972   \n",
       "2        0.001232       0.001165        0.000706     0.001088        0.001025   \n",
       "3        0.000837       0.000757        0.000558     0.000884        0.001010   \n",
       "4        0.000522       0.000858        0.000742     0.001047        0.000857   \n",
       "\n",
       "   1496.58203125  1497.802734375  1499.0234375  1500.244140625  \n",
       "0       0.000832        0.000612      0.001274        0.001770  \n",
       "1       0.001042        0.000604      0.001215        0.001404  \n",
       "2       0.000909        0.000727      0.001263        0.001291  \n",
       "3       0.001561        0.001007      0.001087        0.001439  \n",
       "4       0.000864        0.000797      0.001385        0.001713  \n",
       "\n",
       "[5 rows x 1230 columns]"
      ]
     },
     "execution_count": 785,
     "metadata": {},
     "output_type": "execute_result"
    }
   ],
   "source": [
    "temp_df.head()"
   ]
  },
  {
   "cell_type": "code",
   "execution_count": 788,
   "metadata": {},
   "outputs": [],
   "source": [
    "ids_temp_df = ids.head().join(temp_df.head()).set_index('PRIMARY')"
   ]
  },
  {
   "cell_type": "code",
   "execution_count": 789,
   "metadata": {},
   "outputs": [
    {
     "data": {
      "text/html": [
       "<div>\n",
       "<style scoped>\n",
       "    .dataframe tbody tr th:only-of-type {\n",
       "        vertical-align: middle;\n",
       "    }\n",
       "\n",
       "    .dataframe tbody tr th {\n",
       "        vertical-align: top;\n",
       "    }\n",
       "\n",
       "    .dataframe thead th {\n",
       "        text-align: right;\n",
       "    }\n",
       "</style>\n",
       "<table border=\"1\" class=\"dataframe\">\n",
       "  <thead>\n",
       "    <tr style=\"text-align: right;\">\n",
       "      <th></th>\n",
       "      <th>MA_NR</th>\n",
       "      <th>WSG_ID</th>\n",
       "      <th>WZD_ID</th>\n",
       "      <th>ST_ID</th>\n",
       "      <th>AT_ID</th>\n",
       "      <th>0.0</th>\n",
       "      <th>1.220703125</th>\n",
       "      <th>2.44140625</th>\n",
       "      <th>3.662109375</th>\n",
       "      <th>4.8828125</th>\n",
       "      <th>...</th>\n",
       "      <th>1489.2578125</th>\n",
       "      <th>1490.478515625</th>\n",
       "      <th>1491.69921875</th>\n",
       "      <th>1492.919921875</th>\n",
       "      <th>1494.140625</th>\n",
       "      <th>1495.361328125</th>\n",
       "      <th>1496.58203125</th>\n",
       "      <th>1497.802734375</th>\n",
       "      <th>1499.0234375</th>\n",
       "      <th>1500.244140625</th>\n",
       "    </tr>\n",
       "    <tr>\n",
       "      <th>PRIMARY</th>\n",
       "      <th></th>\n",
       "      <th></th>\n",
       "      <th></th>\n",
       "      <th></th>\n",
       "      <th></th>\n",
       "      <th></th>\n",
       "      <th></th>\n",
       "      <th></th>\n",
       "      <th></th>\n",
       "      <th></th>\n",
       "      <th></th>\n",
       "      <th></th>\n",
       "      <th></th>\n",
       "      <th></th>\n",
       "      <th></th>\n",
       "      <th></th>\n",
       "      <th></th>\n",
       "      <th></th>\n",
       "      <th></th>\n",
       "      <th></th>\n",
       "      <th></th>\n",
       "    </tr>\n",
       "  </thead>\n",
       "  <tbody>\n",
       "    <tr>\n",
       "      <th>4404801</th>\n",
       "      <td>78635</td>\n",
       "      <td>15</td>\n",
       "      <td>10027</td>\n",
       "      <td>20371</td>\n",
       "      <td>10082</td>\n",
       "      <td>0.004278</td>\n",
       "      <td>0.009542</td>\n",
       "      <td>0.008979</td>\n",
       "      <td>0.006578</td>\n",
       "      <td>0.007937</td>\n",
       "      <td>...</td>\n",
       "      <td>0.001142</td>\n",
       "      <td>0.001267</td>\n",
       "      <td>0.001123</td>\n",
       "      <td>0.000849</td>\n",
       "      <td>0.000597</td>\n",
       "      <td>0.000816</td>\n",
       "      <td>0.000832</td>\n",
       "      <td>0.000612</td>\n",
       "      <td>0.001274</td>\n",
       "      <td>0.001770</td>\n",
       "    </tr>\n",
       "    <tr>\n",
       "      <th>4404800</th>\n",
       "      <td>78635</td>\n",
       "      <td>15</td>\n",
       "      <td>10027</td>\n",
       "      <td>20371</td>\n",
       "      <td>10082</td>\n",
       "      <td>0.003139</td>\n",
       "      <td>0.010940</td>\n",
       "      <td>0.011171</td>\n",
       "      <td>0.010567</td>\n",
       "      <td>0.012714</td>\n",
       "      <td>...</td>\n",
       "      <td>0.000845</td>\n",
       "      <td>0.000964</td>\n",
       "      <td>0.001504</td>\n",
       "      <td>0.001450</td>\n",
       "      <td>0.000977</td>\n",
       "      <td>0.000972</td>\n",
       "      <td>0.001042</td>\n",
       "      <td>0.000604</td>\n",
       "      <td>0.001215</td>\n",
       "      <td>0.001404</td>\n",
       "    </tr>\n",
       "    <tr>\n",
       "      <th>4404824</th>\n",
       "      <td>78635</td>\n",
       "      <td>15</td>\n",
       "      <td>10027</td>\n",
       "      <td>20371</td>\n",
       "      <td>10082</td>\n",
       "      <td>0.011586</td>\n",
       "      <td>0.019136</td>\n",
       "      <td>0.014117</td>\n",
       "      <td>0.006791</td>\n",
       "      <td>0.008938</td>\n",
       "      <td>...</td>\n",
       "      <td>0.001136</td>\n",
       "      <td>0.001232</td>\n",
       "      <td>0.001165</td>\n",
       "      <td>0.000706</td>\n",
       "      <td>0.001088</td>\n",
       "      <td>0.001025</td>\n",
       "      <td>0.000909</td>\n",
       "      <td>0.000727</td>\n",
       "      <td>0.001263</td>\n",
       "      <td>0.001291</td>\n",
       "    </tr>\n",
       "    <tr>\n",
       "      <th>4404823</th>\n",
       "      <td>78635</td>\n",
       "      <td>15</td>\n",
       "      <td>10027</td>\n",
       "      <td>20371</td>\n",
       "      <td>10082</td>\n",
       "      <td>0.009273</td>\n",
       "      <td>0.017790</td>\n",
       "      <td>0.013132</td>\n",
       "      <td>0.007374</td>\n",
       "      <td>0.011082</td>\n",
       "      <td>...</td>\n",
       "      <td>0.001042</td>\n",
       "      <td>0.000837</td>\n",
       "      <td>0.000757</td>\n",
       "      <td>0.000558</td>\n",
       "      <td>0.000884</td>\n",
       "      <td>0.001010</td>\n",
       "      <td>0.001561</td>\n",
       "      <td>0.001007</td>\n",
       "      <td>0.001087</td>\n",
       "      <td>0.001439</td>\n",
       "    </tr>\n",
       "    <tr>\n",
       "      <th>4404822</th>\n",
       "      <td>78635</td>\n",
       "      <td>15</td>\n",
       "      <td>10027</td>\n",
       "      <td>20371</td>\n",
       "      <td>10082</td>\n",
       "      <td>0.003870</td>\n",
       "      <td>0.014050</td>\n",
       "      <td>0.013681</td>\n",
       "      <td>0.009128</td>\n",
       "      <td>0.007786</td>\n",
       "      <td>...</td>\n",
       "      <td>0.001080</td>\n",
       "      <td>0.000522</td>\n",
       "      <td>0.000858</td>\n",
       "      <td>0.000742</td>\n",
       "      <td>0.001047</td>\n",
       "      <td>0.000857</td>\n",
       "      <td>0.000864</td>\n",
       "      <td>0.000797</td>\n",
       "      <td>0.001385</td>\n",
       "      <td>0.001713</td>\n",
       "    </tr>\n",
       "  </tbody>\n",
       "</table>\n",
       "<p>5 rows × 1235 columns</p>\n",
       "</div>"
      ],
      "text/plain": [
       "         MA_NR  WSG_ID  WZD_ID  ST_ID  AT_ID       0.0  1.220703125  \\\n",
       "PRIMARY                                                               \n",
       "4404801  78635      15   10027  20371  10082  0.004278     0.009542   \n",
       "4404800  78635      15   10027  20371  10082  0.003139     0.010940   \n",
       "4404824  78635      15   10027  20371  10082  0.011586     0.019136   \n",
       "4404823  78635      15   10027  20371  10082  0.009273     0.017790   \n",
       "4404822  78635      15   10027  20371  10082  0.003870     0.014050   \n",
       "\n",
       "         2.44140625  3.662109375  4.8828125  ...  1489.2578125  \\\n",
       "PRIMARY                                      ...                 \n",
       "4404801    0.008979     0.006578   0.007937  ...      0.001142   \n",
       "4404800    0.011171     0.010567   0.012714  ...      0.000845   \n",
       "4404824    0.014117     0.006791   0.008938  ...      0.001136   \n",
       "4404823    0.013132     0.007374   0.011082  ...      0.001042   \n",
       "4404822    0.013681     0.009128   0.007786  ...      0.001080   \n",
       "\n",
       "         1490.478515625  1491.69921875  1492.919921875  1494.140625  \\\n",
       "PRIMARY                                                               \n",
       "4404801        0.001267       0.001123        0.000849     0.000597   \n",
       "4404800        0.000964       0.001504        0.001450     0.000977   \n",
       "4404824        0.001232       0.001165        0.000706     0.001088   \n",
       "4404823        0.000837       0.000757        0.000558     0.000884   \n",
       "4404822        0.000522       0.000858        0.000742     0.001047   \n",
       "\n",
       "         1495.361328125  1496.58203125  1497.802734375  1499.0234375  \\\n",
       "PRIMARY                                                                \n",
       "4404801        0.000816       0.000832        0.000612      0.001274   \n",
       "4404800        0.000972       0.001042        0.000604      0.001215   \n",
       "4404824        0.001025       0.000909        0.000727      0.001263   \n",
       "4404823        0.001010       0.001561        0.001007      0.001087   \n",
       "4404822        0.000857       0.000864        0.000797      0.001385   \n",
       "\n",
       "         1500.244140625  \n",
       "PRIMARY                  \n",
       "4404801        0.001770  \n",
       "4404800        0.001404  \n",
       "4404824        0.001291  \n",
       "4404823        0.001439  \n",
       "4404822        0.001713  \n",
       "\n",
       "[5 rows x 1235 columns]"
      ]
     },
     "execution_count": 789,
     "metadata": {},
     "output_type": "execute_result"
    }
   ],
   "source": [
    "ids_temp_df"
   ]
  },
  {
   "cell_type": "code",
   "execution_count": 791,
   "metadata": {},
   "outputs": [
    {
     "name": "stdout",
     "output_type": "stream",
     "text": [
      "(113035, 1230) -> (113035, 1235)\n",
      "(113035, 1230) -> (113035, 1235)\n",
      "(113035, 1230) -> (113035, 1235)\n",
      "(113035, 513) -> (113035, 518)\n",
      "(113032, 1230) -> (113032, 1235)\n",
      "(113032, 1230) -> (113032, 1235)\n",
      "(1, 1230) -> (1, 1235)\n",
      "(1, 1230) -> (1, 1235)\n"
     ]
    },
    {
     "ename": "EmptyDataError",
     "evalue": "No columns to parse from file",
     "output_type": "error",
     "traceback": [
      "\u001b[1;31m---------------------------------------------------------------------------\u001b[0m",
      "\u001b[1;31mEmptyDataError\u001b[0m                            Traceback (most recent call last)",
      "\u001b[1;32m<ipython-input-791-b883912af934>\u001b[0m in \u001b[0;36m<module>\u001b[1;34m\u001b[0m\n\u001b[0;32m      1\u001b[0m \u001b[1;32mfor\u001b[0m \u001b[0mfile\u001b[0m \u001b[1;32min\u001b[0m \u001b[0mfiles\u001b[0m\u001b[1;33m:\u001b[0m\u001b[1;33m\u001b[0m\u001b[1;33m\u001b[0m\u001b[0m\n\u001b[1;32m----> 2\u001b[1;33m     \u001b[0mtemp_df\u001b[0m \u001b[1;33m=\u001b[0m \u001b[0mpd\u001b[0m\u001b[1;33m.\u001b[0m\u001b[0mread_csv\u001b[0m\u001b[1;33m(\u001b[0m\u001b[1;34mf'../data/processed/spectral_data/{file}'\u001b[0m\u001b[1;33m)\u001b[0m\u001b[1;33m\u001b[0m\u001b[1;33m\u001b[0m\u001b[0m\n\u001b[0m\u001b[0;32m      3\u001b[0m     \u001b[0mshape\u001b[0m\u001b[1;33m=\u001b[0m\u001b[0mtemp_df\u001b[0m\u001b[1;33m.\u001b[0m\u001b[0mshape\u001b[0m\u001b[1;33m\u001b[0m\u001b[1;33m\u001b[0m\u001b[0m\n\u001b[0;32m      4\u001b[0m     \u001b[0mtemp_df\u001b[0m \u001b[1;33m=\u001b[0m \u001b[0mids\u001b[0m\u001b[1;33m.\u001b[0m\u001b[0mjoin\u001b[0m\u001b[1;33m(\u001b[0m\u001b[0mtemp_df\u001b[0m\u001b[1;33m,\u001b[0m \u001b[0mhow\u001b[0m\u001b[1;33m=\u001b[0m\u001b[1;34m'inner'\u001b[0m\u001b[1;33m)\u001b[0m\u001b[1;33m.\u001b[0m\u001b[0mset_index\u001b[0m\u001b[1;33m(\u001b[0m\u001b[1;34m'PRIMARY'\u001b[0m\u001b[1;33m)\u001b[0m\u001b[1;33m\u001b[0m\u001b[1;33m\u001b[0m\u001b[0m\n\u001b[0;32m      5\u001b[0m     \u001b[0mtemp_df\u001b[0m\u001b[1;33m.\u001b[0m\u001b[0mto_csv\u001b[0m\u001b[1;33m(\u001b[0m\u001b[1;34mf'../data/processed/spectral_data/{file}'\u001b[0m\u001b[1;33m,\u001b[0m \u001b[0mheader\u001b[0m\u001b[1;33m=\u001b[0m\u001b[1;32mTrue\u001b[0m\u001b[1;33m,\u001b[0m \u001b[0mindex\u001b[0m\u001b[1;33m=\u001b[0m\u001b[1;32mTrue\u001b[0m\u001b[1;33m,\u001b[0m \u001b[0mindex_label\u001b[0m\u001b[1;33m=\u001b[0m\u001b[1;32mFalse\u001b[0m\u001b[1;33m)\u001b[0m\u001b[1;33m\u001b[0m\u001b[1;33m\u001b[0m\u001b[0m\n",
      "\u001b[1;32m~\\anaconda3\\envs\\process-optimization\\lib\\site-packages\\pandas\\io\\parsers.py\u001b[0m in \u001b[0;36mread_csv\u001b[1;34m(filepath_or_buffer, sep, delimiter, header, names, index_col, usecols, squeeze, prefix, mangle_dupe_cols, dtype, engine, converters, true_values, false_values, skipinitialspace, skiprows, skipfooter, nrows, na_values, keep_default_na, na_filter, verbose, skip_blank_lines, parse_dates, infer_datetime_format, keep_date_col, date_parser, dayfirst, cache_dates, iterator, chunksize, compression, thousands, decimal, lineterminator, quotechar, quoting, doublequote, escapechar, comment, encoding, dialect, error_bad_lines, warn_bad_lines, delim_whitespace, low_memory, memory_map, float_precision)\u001b[0m\n\u001b[0;32m    684\u001b[0m     )\n\u001b[0;32m    685\u001b[0m \u001b[1;33m\u001b[0m\u001b[0m\n\u001b[1;32m--> 686\u001b[1;33m     \u001b[1;32mreturn\u001b[0m \u001b[0m_read\u001b[0m\u001b[1;33m(\u001b[0m\u001b[0mfilepath_or_buffer\u001b[0m\u001b[1;33m,\u001b[0m \u001b[0mkwds\u001b[0m\u001b[1;33m)\u001b[0m\u001b[1;33m\u001b[0m\u001b[1;33m\u001b[0m\u001b[0m\n\u001b[0m\u001b[0;32m    687\u001b[0m \u001b[1;33m\u001b[0m\u001b[0m\n\u001b[0;32m    688\u001b[0m \u001b[1;33m\u001b[0m\u001b[0m\n",
      "\u001b[1;32m~\\anaconda3\\envs\\process-optimization\\lib\\site-packages\\pandas\\io\\parsers.py\u001b[0m in \u001b[0;36m_read\u001b[1;34m(filepath_or_buffer, kwds)\u001b[0m\n\u001b[0;32m    450\u001b[0m \u001b[1;33m\u001b[0m\u001b[0m\n\u001b[0;32m    451\u001b[0m     \u001b[1;31m# Create the parser.\u001b[0m\u001b[1;33m\u001b[0m\u001b[1;33m\u001b[0m\u001b[1;33m\u001b[0m\u001b[0m\n\u001b[1;32m--> 452\u001b[1;33m     \u001b[0mparser\u001b[0m \u001b[1;33m=\u001b[0m \u001b[0mTextFileReader\u001b[0m\u001b[1;33m(\u001b[0m\u001b[0mfp_or_buf\u001b[0m\u001b[1;33m,\u001b[0m \u001b[1;33m**\u001b[0m\u001b[0mkwds\u001b[0m\u001b[1;33m)\u001b[0m\u001b[1;33m\u001b[0m\u001b[1;33m\u001b[0m\u001b[0m\n\u001b[0m\u001b[0;32m    453\u001b[0m \u001b[1;33m\u001b[0m\u001b[0m\n\u001b[0;32m    454\u001b[0m     \u001b[1;32mif\u001b[0m \u001b[0mchunksize\u001b[0m \u001b[1;32mor\u001b[0m \u001b[0miterator\u001b[0m\u001b[1;33m:\u001b[0m\u001b[1;33m\u001b[0m\u001b[1;33m\u001b[0m\u001b[0m\n",
      "\u001b[1;32m~\\anaconda3\\envs\\process-optimization\\lib\\site-packages\\pandas\\io\\parsers.py\u001b[0m in \u001b[0;36m__init__\u001b[1;34m(self, f, engine, **kwds)\u001b[0m\n\u001b[0;32m    944\u001b[0m             \u001b[0mself\u001b[0m\u001b[1;33m.\u001b[0m\u001b[0moptions\u001b[0m\u001b[1;33m[\u001b[0m\u001b[1;34m\"has_index_names\"\u001b[0m\u001b[1;33m]\u001b[0m \u001b[1;33m=\u001b[0m \u001b[0mkwds\u001b[0m\u001b[1;33m[\u001b[0m\u001b[1;34m\"has_index_names\"\u001b[0m\u001b[1;33m]\u001b[0m\u001b[1;33m\u001b[0m\u001b[1;33m\u001b[0m\u001b[0m\n\u001b[0;32m    945\u001b[0m \u001b[1;33m\u001b[0m\u001b[0m\n\u001b[1;32m--> 946\u001b[1;33m         \u001b[0mself\u001b[0m\u001b[1;33m.\u001b[0m\u001b[0m_make_engine\u001b[0m\u001b[1;33m(\u001b[0m\u001b[0mself\u001b[0m\u001b[1;33m.\u001b[0m\u001b[0mengine\u001b[0m\u001b[1;33m)\u001b[0m\u001b[1;33m\u001b[0m\u001b[1;33m\u001b[0m\u001b[0m\n\u001b[0m\u001b[0;32m    947\u001b[0m \u001b[1;33m\u001b[0m\u001b[0m\n\u001b[0;32m    948\u001b[0m     \u001b[1;32mdef\u001b[0m \u001b[0mclose\u001b[0m\u001b[1;33m(\u001b[0m\u001b[0mself\u001b[0m\u001b[1;33m)\u001b[0m\u001b[1;33m:\u001b[0m\u001b[1;33m\u001b[0m\u001b[1;33m\u001b[0m\u001b[0m\n",
      "\u001b[1;32m~\\anaconda3\\envs\\process-optimization\\lib\\site-packages\\pandas\\io\\parsers.py\u001b[0m in \u001b[0;36m_make_engine\u001b[1;34m(self, engine)\u001b[0m\n\u001b[0;32m   1176\u001b[0m     \u001b[1;32mdef\u001b[0m \u001b[0m_make_engine\u001b[0m\u001b[1;33m(\u001b[0m\u001b[0mself\u001b[0m\u001b[1;33m,\u001b[0m \u001b[0mengine\u001b[0m\u001b[1;33m=\u001b[0m\u001b[1;34m\"c\"\u001b[0m\u001b[1;33m)\u001b[0m\u001b[1;33m:\u001b[0m\u001b[1;33m\u001b[0m\u001b[1;33m\u001b[0m\u001b[0m\n\u001b[0;32m   1177\u001b[0m         \u001b[1;32mif\u001b[0m \u001b[0mengine\u001b[0m \u001b[1;33m==\u001b[0m \u001b[1;34m\"c\"\u001b[0m\u001b[1;33m:\u001b[0m\u001b[1;33m\u001b[0m\u001b[1;33m\u001b[0m\u001b[0m\n\u001b[1;32m-> 1178\u001b[1;33m             \u001b[0mself\u001b[0m\u001b[1;33m.\u001b[0m\u001b[0m_engine\u001b[0m \u001b[1;33m=\u001b[0m \u001b[0mCParserWrapper\u001b[0m\u001b[1;33m(\u001b[0m\u001b[0mself\u001b[0m\u001b[1;33m.\u001b[0m\u001b[0mf\u001b[0m\u001b[1;33m,\u001b[0m \u001b[1;33m**\u001b[0m\u001b[0mself\u001b[0m\u001b[1;33m.\u001b[0m\u001b[0moptions\u001b[0m\u001b[1;33m)\u001b[0m\u001b[1;33m\u001b[0m\u001b[1;33m\u001b[0m\u001b[0m\n\u001b[0m\u001b[0;32m   1179\u001b[0m         \u001b[1;32melse\u001b[0m\u001b[1;33m:\u001b[0m\u001b[1;33m\u001b[0m\u001b[1;33m\u001b[0m\u001b[0m\n\u001b[0;32m   1180\u001b[0m             \u001b[1;32mif\u001b[0m \u001b[0mengine\u001b[0m \u001b[1;33m==\u001b[0m \u001b[1;34m\"python\"\u001b[0m\u001b[1;33m:\u001b[0m\u001b[1;33m\u001b[0m\u001b[1;33m\u001b[0m\u001b[0m\n",
      "\u001b[1;32m~\\anaconda3\\envs\\process-optimization\\lib\\site-packages\\pandas\\io\\parsers.py\u001b[0m in \u001b[0;36m__init__\u001b[1;34m(self, src, **kwds)\u001b[0m\n\u001b[0;32m   2006\u001b[0m         \u001b[0mkwds\u001b[0m\u001b[1;33m[\u001b[0m\u001b[1;34m\"usecols\"\u001b[0m\u001b[1;33m]\u001b[0m \u001b[1;33m=\u001b[0m \u001b[0mself\u001b[0m\u001b[1;33m.\u001b[0m\u001b[0musecols\u001b[0m\u001b[1;33m\u001b[0m\u001b[1;33m\u001b[0m\u001b[0m\n\u001b[0;32m   2007\u001b[0m \u001b[1;33m\u001b[0m\u001b[0m\n\u001b[1;32m-> 2008\u001b[1;33m         \u001b[0mself\u001b[0m\u001b[1;33m.\u001b[0m\u001b[0m_reader\u001b[0m \u001b[1;33m=\u001b[0m \u001b[0mparsers\u001b[0m\u001b[1;33m.\u001b[0m\u001b[0mTextReader\u001b[0m\u001b[1;33m(\u001b[0m\u001b[0msrc\u001b[0m\u001b[1;33m,\u001b[0m \u001b[1;33m**\u001b[0m\u001b[0mkwds\u001b[0m\u001b[1;33m)\u001b[0m\u001b[1;33m\u001b[0m\u001b[1;33m\u001b[0m\u001b[0m\n\u001b[0m\u001b[0;32m   2009\u001b[0m         \u001b[0mself\u001b[0m\u001b[1;33m.\u001b[0m\u001b[0munnamed_cols\u001b[0m \u001b[1;33m=\u001b[0m \u001b[0mself\u001b[0m\u001b[1;33m.\u001b[0m\u001b[0m_reader\u001b[0m\u001b[1;33m.\u001b[0m\u001b[0munnamed_cols\u001b[0m\u001b[1;33m\u001b[0m\u001b[1;33m\u001b[0m\u001b[0m\n\u001b[0;32m   2010\u001b[0m \u001b[1;33m\u001b[0m\u001b[0m\n",
      "\u001b[1;32mpandas\\_libs\\parsers.pyx\u001b[0m in \u001b[0;36mpandas._libs.parsers.TextReader.__cinit__\u001b[1;34m()\u001b[0m\n",
      "\u001b[1;31mEmptyDataError\u001b[0m: No columns to parse from file"
     ]
    }
   ],
   "source": [
    "for file in files:\n",
    "    temp_df = pd.read_csv(f'../data/processed/spectral_data/{file}')\n",
    "    shape=temp_df.shape\n",
    "    temp_df = ids.join(temp_df, how='inner').set_index('PRIMARY')\n",
    "    temp_df.to_csv(f'../data/processed/spectral_data/{file}', header=True, index=True, index_label=False)\n",
    "    print(f'{shape} -> {temp_df.shape}')"
   ]
  },
  {
   "cell_type": "code",
   "execution_count": 792,
   "metadata": {},
   "outputs": [
    {
     "data": {
      "text/plain": [
       "'MA_NR-78635_SPEK_R1_5.csv'"
      ]
     },
     "execution_count": 792,
     "metadata": {},
     "output_type": "execute_result"
    }
   ],
   "source": [
    "file"
   ]
  },
  {
   "cell_type": "code",
   "execution_count": 798,
   "metadata": {},
   "outputs": [
    {
     "name": "stdout",
     "output_type": "stream",
     "text": [
      "(113032, 1230) -> (113032, 1235)\n",
      "(113032, 1230) -> (113032, 1235)\n",
      "(1, 1230) -> (1, 1235)\n",
      "(1, 1230) -> (1, 1235)\n",
      "(113032, 1230) -> (113032, 1235)\n",
      "(113032, 1230) -> (113032, 1235)\n",
      "(1, 1230) -> (1, 1235)\n",
      "(1, 1230) -> (1, 1235)\n",
      "(113032, 513) -> (113032, 518)\n",
      "(113032, 513) -> (113032, 518)\n",
      "(1, 257) -> (1, 262)\n",
      "(1, 257) -> (1, 262)\n"
     ]
    }
   ],
   "source": [
    "for file in files[9:]:\n",
    "    try:\n",
    "        temp_df = pd.read_csv(f'../data/processed/spectral_data/{file}')\n",
    "        shape=temp_df.shape\n",
    "        temp_df = ids.join(temp_df, how='inner').set_index('PRIMARY')\n",
    "        temp_df.to_csv(f'../data/processed/spectral_data/{file}', header=True, index=True, index_label=False)\n",
    "        print(f'{shape} -> {temp_df.shape}')\n",
    "    except:\n",
    "        pass"
   ]
  },
  {
   "cell_type": "code",
   "execution_count": 799,
   "metadata": {},
   "outputs": [
    {
     "data": {
      "text/plain": [
       "['MA_NR-78635_SPEK_L1.csv',\n",
       " 'MA_NR-78635_SPEK_L2.csv',\n",
       " 'MA_NR-78635_SPEK_L3.csv',\n",
       " 'MA_NR-78635_SPEK_LP.csv',\n",
       " 'MA_NR-78635_SPEK_R1_1.csv',\n",
       " 'MA_NR-78635_SPEK_R1_2.csv',\n",
       " 'MA_NR-78635_SPEK_R1_3.csv',\n",
       " 'MA_NR-78635_SPEK_R1_4.csv',\n",
       " 'MA_NR-78635_SPEK_R1_5.csv',\n",
       " 'MA_NR-78635_SPEK_R1_6.csv',\n",
       " 'MA_NR-78635_SPEK_R2_1.csv',\n",
       " 'MA_NR-78635_SPEK_R2_2.csv',\n",
       " 'MA_NR-78635_SPEK_R2_3.csv',\n",
       " 'MA_NR-78635_SPEK_R2_4.csv',\n",
       " 'MA_NR-78635_SPEK_R2_5.csv',\n",
       " 'MA_NR-78635_SPEK_R2_6.csv',\n",
       " 'MA_NR-78635_SPEK_R3_1.csv',\n",
       " 'MA_NR-78635_SPEK_R3_2.csv',\n",
       " 'MA_NR-78635_SPEK_R3_3.csv',\n",
       " 'MA_NR-78635_SPEK_R3_4.csv',\n",
       " 'MA_NR-78635_SPEK_R3_5.csv',\n",
       " 'MA_NR-78635_SPEK_R3_6.csv',\n",
       " 'MA_NR-78635_SPEK_RP_1.csv',\n",
       " 'MA_NR-78635_SPEK_RP_2.csv',\n",
       " 'MA_NR-78635_SPEK_RP_3.csv',\n",
       " 'MA_NR-78635_SPEK_RP_4.csv',\n",
       " 'MA_NR-78635_SPEK_RP_5.csv',\n",
       " 'MA_NR-78635_SPEK_RP_6.csv']"
      ]
     },
     "execution_count": 799,
     "metadata": {},
     "output_type": "execute_result"
    }
   ],
   "source": [
    "files"
   ]
  },
  {
   "cell_type": "code",
   "execution_count": null,
   "metadata": {},
   "outputs": [],
   "source": []
  }
 ],
 "metadata": {
  "kernelspec": {
   "display_name": "process-optimization",
   "language": "python",
   "name": "process-optimization"
  },
  "language_info": {
   "codemirror_mode": {
    "name": "ipython",
    "version": 3
   },
   "file_extension": ".py",
   "mimetype": "text/x-python",
   "name": "python",
   "nbconvert_exporter": "python",
   "pygments_lexer": "ipython3",
   "version": "3.8.5"
  }
 },
 "nbformat": 4,
 "nbformat_minor": 4
}
